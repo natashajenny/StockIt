{
 "cells": [
  {
   "cell_type": "code",
   "execution_count": 8,
   "metadata": {},
   "outputs": [],
   "source": [
    "from pandas import concat, read_excel\n",
    "from model import Company, PerformanceLog\n",
    "from decimal import Decimal, getcontext\n",
    "from datetime import datetime, timedelta\n",
    "from calendar import monthrange\n",
    "from para_map import para_map\n",
    "\n",
    "def get_report(code):\n",
    "    df_list = read_excel('../data/financial/%s.xlsx' % code.lower(), sheet_name=None)\n",
    "    sheet_list = ['Profit Loss',\n",
    "                  'Balance Sheet',\n",
    "                  'Cash Flow',\n",
    "                  'Per Share Statisticts',\n",
    "                  'Sundry Analysis',\n",
    "                  'Ratio Analysis',\n",
    "                  'Asset Base Analysis']\n",
    "    df = df_list[sheet_list[0]]\n",
    "    for sheet in sheet_list[1:]:\n",
    "        if sheet in df_list:\n",
    "            df = concat([df, df_list[sheet]])\n",
    "    df = df.drop_duplicates(subset='Item', keep='first')       \n",
    "    df.set_index('Item', inplace=True)\n",
    "    getcontext().prec = 4\n",
    "    for col in df.columns[2:]:\n",
    "        day = datetime.strptime(col, '%m/%y')\n",
    "        last_day = monthrange(day.year, day.month)[1]\n",
    "        day = day + timedelta(days=last_day-1)\n",
    "        day = day.date()\n",
    "        perf_log = PerformanceLog(date=day, code=code)\n",
    "        for (field, idx) in para_map:\n",
    "            if idx in df.index:\n",
    "                value = df.loc[idx, col]\n",
    "                if value == '--':\n",
    "                    value = None\n",
    "                if value and '%' in idx:\n",
    "                    value = Decimal(value)\n",
    "                    value /= 100\n",
    "                setattr(perf_log, field, value)\n",
    "        perf_log.save()"
   ]
  },
  {
   "cell_type": "code",
   "execution_count": 9,
   "metadata": {},
   "outputs": [
    {
     "name": "stdout",
     "output_type": "stream",
     "text": [
      "ANZ =============================================\n"
     ]
    }
   ],
   "source": [
    "companies = [Company().query().get('ANZ')]\n",
    "for company in companies:\n",
    "    print(company.code, '=============================================')\n",
    "    get_report(company.code)"
   ]
  },
  {
   "cell_type": "code",
   "execution_count": 12,
   "metadata": {},
   "outputs": [],
   "source": [
    "companies = Company().query().filter(Company.sector == 'Financials').all()"
   ]
  },
  {
   "cell_type": "code",
   "execution_count": 16,
   "metadata": {},
   "outputs": [],
   "source": [
    "for company in companies:\n",
    "    perf_logs = PerformanceLog().query().filter(PerformanceLog.company == company).all()\n",
    "    for log in perf_logs:\n",
    "        log.delete()"
   ]
  },
  {
   "cell_type": "code",
   "execution_count": 15,
   "metadata": {},
   "outputs": [],
   "source": [
    "\n",
    "    "
   ]
  },
  {
   "cell_type": "code",
   "execution_count": null,
   "metadata": {},
   "outputs": [],
   "source": []
  }
 ],
 "metadata": {
  "kernelspec": {
   "display_name": "Python 3",
   "language": "python",
   "name": "python3"
  },
  "language_info": {
   "codemirror_mode": {
    "name": "ipython",
    "version": 3
   },
   "file_extension": ".py",
   "mimetype": "text/x-python",
   "name": "python",
   "nbconvert_exporter": "python",
   "pygments_lexer": "ipython3",
   "version": "3.7.3"
  }
 },
 "nbformat": 4,
 "nbformat_minor": 4
}
