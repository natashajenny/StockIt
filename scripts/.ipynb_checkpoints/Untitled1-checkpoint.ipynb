{
 "cells": [
  {
   "cell_type": "code",
   "execution_count": 1,
   "metadata": {},
   "outputs": [],
   "source": [
    "import pandas as pd\n",
    "import time\n",
    "from model import Company, StockLog\n",
    "from datetime import datetime"
   ]
  },
  {
   "cell_type": "code",
   "execution_count": 2,
   "metadata": {},
   "outputs": [],
   "source": [
    "CSV = 'https://www.alphavantage.co/query?function=TIME_SERIES_DAILY_ADJUSTED'\\\n",
    "      '&outputsize=compact'\\\n",
    "      '&datatype=csv'\\\n",
    "      '&apikey=OW4NZBLAQU5EBFEV'\\\n",
    "      '&symbol='\n",
    "\n",
    "def get_stock_log(code, csv_path=CSV):\n",
    "    df = pd.read_csv(csv_path + code + '.AX',\n",
    "                     usecols=[0, 1, 2, 3, 4, 5, 6],\n",
    "                     parse_dates=['timestamp'])\n",
    "    df.sort_values(by='timestamp', inplace=True)\n",
    "    time.sleep(12)\n",
    "    return df[98:]\n",
    "\n",
    "def update_stock_log(code, df):\n",
    "    print(code)\n",
    "    for idx, row in df.iterrows():\n",
    "        date = row['timestamp'].date()\n",
    "        stock_log = StockLog().query().get((date, code))\n",
    "        if not stock_log:\n",
    "            stock_log = StockLog()\n",
    "            stock_log.date = row['timestamp']\n",
    "            stock_log.code = code   \n",
    "            stock_log.save()     \n",
    "        stock_log.opening = row['open']\n",
    "        stock_log.high = row['high']\n",
    "        stock_log.low = row['low']\n",
    "        stock_log.closing = row['close']\n",
    "        stock_log.adjusted = row['adjusted_close']\n",
    "        stock_log.volume = row['volume']        \n",
    "        stock_log.update()\n",
    "\n",
    "def update_all_stock():\n",
    "    companies = Company().query().all()\n",
    "    for company in companies:\n",
    "        code = company.code\n",
    "        df = get_stock_log(code)\n",
    "        update_stock_log(code, df)"
   ]
  },
  {
   "cell_type": "code",
   "execution_count": null,
   "metadata": {},
   "outputs": [],
   "source": [
    "update_all_stock()"
   ]
  },
  {
   "cell_type": "code",
   "execution_count": null,
   "metadata": {},
   "outputs": [],
   "source": []
  }
 ],
 "metadata": {
  "kernelspec": {
   "display_name": "Python 3",
   "language": "python",
   "name": "python3"
  },
  "language_info": {
   "codemirror_mode": {
    "name": "ipython",
    "version": 3
   },
   "file_extension": ".py",
   "mimetype": "text/x-python",
   "name": "python",
   "nbconvert_exporter": "python",
   "pygments_lexer": "ipython3",
   "version": "3.7.3"
  }
 },
 "nbformat": 4,
 "nbformat_minor": 4
}
