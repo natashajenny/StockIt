{
 "cells": [
  {
   "cell_type": "code",
   "execution_count": 1,
   "metadata": {},
   "outputs": [],
   "source": [
    "import copy\n",
    "import time\n",
    "import pandas as pd\n",
    "import numpy as np\n",
    "import seaborn as sns\n",
    "import matplotlib.pyplot as plt\n",
    "from model import Company, StockLog, IndexLog\n",
    "%matplotlib inline"
   ]
  },
  {
   "cell_type": "markdown",
   "metadata": {},
   "source": [
    "# Read Stock Data"
   ]
  },
  {
   "cell_type": "code",
   "execution_count": 3,
   "metadata": {},
   "outputs": [],
   "source": [
    "stock = 'ABC.AX'\n",
    "start = '2009-07-01'\n",
    "finish = '2019-06-30'"
   ]
  },
  {
   "cell_type": "code",
   "execution_count": null,
   "metadata": {},
   "outputs": [],
   "source": [
    "CSV = 'https://www.alphavantage.co/query?function=TIME_SERIES_DAILY_ADJUSTED'\\\n",
    "      '&outputsize=full'\\\n",
    "      '&datatype=csv'\\\n",
    "      '&apikey=OW4NZBLAQU5EBFEV'\\\n",
    "      '&symbol=%s' % stock\n",
    "df = pd.read_csv(CSV, usecols=[0, 1, 2, 3, 4, 5, 6], parse_dates=['timestamp'])\n",
    "df.rename(columns={'timestamp': 'date', 'adjusted_close': 'adj_close'}, inplace=True)\n",
    "df.sort_values(by='date', inplace=True)\n",
    "df.set_index('date', inplace=True)\n",
    "df.drop(df[df.index < start].index, inplace=True)\n",
    "df.drop(df[df.index > finish].index, inplace=True)"
   ]
  },
  {
   "cell_type": "markdown",
   "metadata": {},
   "source": [
    "# Technical Indicators"
   ]
  },
  {
   "cell_type": "markdown",
   "metadata": {},
   "source": [
    "### 01: SMA 15, 50, 200 "
   ]
  },
  {
   "cell_type": "code",
   "execution_count": null,
   "metadata": {},
   "outputs": [],
   "source": [
    "for period in [15, 50, 200]:\n",
    "    CSV = 'https://www.alphavantage.co/query?function=SMA'\\\n",
    "          '&interval=daily'\\\n",
    "          '&time_period=%d'\\\n",
    "          '&series_type=close'\\\n",
    "          '&datatype=csv'\\\n",
    "          '&apikey=OW4NZBLAQU5EBFEV'\\\n",
    "          '&symbol=%s' % (period, stock)\n",
    "    new = pd.read_csv(CSV, parse_dates=['time'])\n",
    "    new.rename(columns={'time': 'date', 'SMA': 'sma%d' % period}, inplace=True)\n",
    "    new.sort_values(by='date', inplace=True)\n",
    "    new.set_index('date', inplace=True)\n",
    "    new.drop(new[new.index < start].index, inplace=True)\n",
    "    new.drop(new[new.index > finish].index, inplace=True)\n",
    "    df = df.merge(new, how='outer', left_index=True, right_index=True)\n",
    "    time.sleep(10)"
   ]
  },
  {
   "cell_type": "markdown",
   "metadata": {},
   "source": [
    "### 02: EMA 15, 50, 200"
   ]
  },
  {
   "cell_type": "code",
   "execution_count": null,
   "metadata": {},
   "outputs": [],
   "source": [
    "for period in [15, 50, 200]:\n",
    "    CSV = 'https://www.alphavantage.co/query?function=EMA'\\\n",
    "          '&interval=daily'\\\n",
    "          '&time_period=%d'\\\n",
    "          '&series_type=close'\\\n",
    "          '&datatype=csv'\\\n",
    "          '&apikey=OW4NZBLAQU5EBFEV'\\\n",
    "          '&symbol=%s' % (period, stock)\n",
    "    new = pd.read_csv(CSV, parse_dates=['time'])\n",
    "    new.rename(columns={'time': 'date', 'EMA': 'ema%d' % period}, inplace=True)\n",
    "    new.sort_values(by='date', inplace=True)\n",
    "    new.set_index('date', inplace=True)\n",
    "    new.drop(new[new.index < start].index, inplace=True)\n",
    "    new.drop(new[new.index > finish].index, inplace=True)\n",
    "    df = df.merge(new, how='outer', left_index=True, right_index=True)\n",
    "    time.sleep(10)    "
   ]
  },
  {
   "cell_type": "markdown",
   "metadata": {},
   "source": [
    "### 03: MACD"
   ]
  },
  {
   "cell_type": "code",
   "execution_count": null,
   "metadata": {},
   "outputs": [],
   "source": [
    "CSV = 'https://www.alphavantage.co/query?function=MACD'\\\n",
    "      '&interval=daily'\\\n",
    "      '&series_type=close'\\\n",
    "      '&datatype=csv'\\\n",
    "      '&apikey=OW4NZBLAQU5EBFEV'\\\n",
    "      '&symbol=%s' % stock\n",
    "new = pd.read_csv(CSV, parse_dates=['time'])\n",
    "new.rename(columns={'time': 'date', 'MACD': 'macd', 'MACD_Hist': 'macd_hst', 'MACD_Signal': 'macd_sig'}, inplace=True)\n",
    "new.sort_values(by='date', inplace=True)\n",
    "new.set_index('date', inplace=True)\n",
    "new.drop(new[new.index < start].index, inplace=True)\n",
    "new.drop(new[new.index > finish].index, inplace=True)\n",
    "df = df.merge(new, how='outer', left_index=True, right_index=True)"
   ]
  },
  {
   "cell_type": "markdown",
   "metadata": {},
   "source": [
    "### 04: Bollinger Bands"
   ]
  },
  {
   "cell_type": "code",
   "execution_count": null,
   "metadata": {},
   "outputs": [],
   "source": [
    "CSV = 'https://www.alphavantage.co/query?function=BBANDS'\\\n",
    "      '&interval=daily'\\\n",
    "      '&time_period=20'\\\n",
    "      '&series_type=close'\\\n",
    "      '&datatype=csv'\\\n",
    "      '&apikey=OW4NZBLAQU5EBFEV'\\\n",
    "      '&symbol=%s' % stock\n",
    "new = pd.read_csv(CSV, parse_dates=['time'])\n",
    "new.rename(columns={'time': 'date', 'Real Lower Band': 'bb_low', 'Real Middle Band': 'bb_mid', 'Real Upper Band': 'bb_hi'}, inplace=True)\n",
    "new.sort_values(by='date', inplace=True)\n",
    "new.set_index('date', inplace=True)\n",
    "new.drop(new[new.index < start].index, inplace=True)\n",
    "new.drop(new[new.index > finish].index, inplace=True)\n",
    "df = df.merge(new, how='outer', left_index=True, right_index=True)"
   ]
  },
  {
   "cell_type": "markdown",
   "metadata": {},
   "source": [
    "### 05: Stochastic Oscillator"
   ]
  },
  {
   "cell_type": "code",
   "execution_count": null,
   "metadata": {},
   "outputs": [],
   "source": [
    "CSV = 'https://www.alphavantage.co/query?function=STOCH'\\\n",
    "      '&interval=daily'\\\n",
    "      '&time_period=14'\\\n",
    "      '&series_type=close'\\\n",
    "      '&datatype=csv'\\\n",
    "      '&apikey=OW4NZBLAQU5EBFEV'\\\n",
    "      '&symbol=%s' % stock\n",
    "new = pd.read_csv(CSV, parse_dates=['time'])\n",
    "new.rename(columns={'time': 'date', 'SlowD': 'slow_d', 'SlowK': 'slow_k'}, inplace=True)\n",
    "new.sort_values(by='date', inplace=True)\n",
    "new.set_index('date', inplace=True)\n",
    "new.drop(new[new.index < start].index, inplace=True)\n",
    "new.drop(new[new.index > finish].index, inplace=True)\n",
    "df = df.merge(new, how='outer', left_index=True, right_index=True)"
   ]
  },
  {
   "cell_type": "markdown",
   "metadata": {},
   "source": [
    "### 06: Relative Strength Index"
   ]
  },
  {
   "cell_type": "code",
   "execution_count": null,
   "metadata": {},
   "outputs": [],
   "source": [
    "CSV = 'https://www.alphavantage.co/query?function=RSI'\\\n",
    "      '&interval=daily'\\\n",
    "      '&time_period=14'\\\n",
    "      '&series_type=close'\\\n",
    "      '&datatype=csv'\\\n",
    "      '&apikey=OW4NZBLAQU5EBFEV'\\\n",
    "      '&symbol=%s' % stock\n",
    "new = pd.read_csv(CSV, parse_dates=['time'])\n",
    "new.rename(columns={'time': 'date', 'RSI': 'rsi'}, inplace=True)\n",
    "new.sort_values(by='date', inplace=True)\n",
    "new.set_index('date', inplace=True)\n",
    "new.drop(new[new.index < start].index, inplace=True)\n",
    "new.drop(new[new.index > finish].index, inplace=True)\n",
    "df = df.merge(new, how='outer', left_index=True, right_index=True)"
   ]
  },
  {
   "cell_type": "markdown",
   "metadata": {},
   "source": [
    "### 07: Average Directional Movement Index"
   ]
  },
  {
   "cell_type": "code",
   "execution_count": null,
   "metadata": {},
   "outputs": [],
   "source": [
    "CSV = 'https://www.alphavantage.co/query?function=ADX'\\\n",
    "      '&interval=daily'\\\n",
    "      '&time_period=14'\\\n",
    "      '&series_type=close'\\\n",
    "      '&datatype=csv'\\\n",
    "      '&apikey=OW4NZBLAQU5EBFEV'\\\n",
    "      '&symbol=%s' % stock\n",
    "new = pd.read_csv(CSV, parse_dates=['time'])\n",
    "new.rename(columns={'time': 'date', 'ADX': 'adx'}, inplace=True)\n",
    "new.sort_values(by='date', inplace=True)\n",
    "new.set_index('date', inplace=True)\n",
    "new.drop(new[new.index < start].index, inplace=True)\n",
    "new.drop(new[new.index > finish].index, inplace=True)\n",
    "df = df.merge(new, how='outer', left_index=True, right_index=True)"
   ]
  },
  {
   "cell_type": "markdown",
   "metadata": {},
   "source": [
    "### 08: Commodity Channel Index"
   ]
  },
  {
   "cell_type": "code",
   "execution_count": null,
   "metadata": {},
   "outputs": [],
   "source": [
    "CSV = 'https://www.alphavantage.co/query?function=CCI'\\\n",
    "      '&interval=daily'\\\n",
    "      '&time_period=20'\\\n",
    "      '&series_type=close'\\\n",
    "      '&datatype=csv'\\\n",
    "      '&apikey=OW4NZBLAQU5EBFEV'\\\n",
    "      '&symbol=%s' % stock\n",
    "new = pd.read_csv(CSV, parse_dates=['time'])\n",
    "new.rename(columns={'time': 'date', 'CCI': 'cci'}, inplace=True)\n",
    "new.sort_values(by='date', inplace=True)\n",
    "new.set_index('date', inplace=True)\n",
    "new.drop(new[new.index < start].index, inplace=True)\n",
    "new.drop(new[new.index > finish].index, inplace=True)\n",
    "df = df.merge(new, how='outer', left_index=True, right_index=True)"
   ]
  },
  {
   "cell_type": "markdown",
   "metadata": {},
   "source": [
    "### 09: Aroon Oscillator"
   ]
  },
  {
   "cell_type": "code",
   "execution_count": null,
   "metadata": {},
   "outputs": [],
   "source": [
    "CSV = 'https://www.alphavantage.co/query?function=AROON'\\\n",
    "      '&interval=daily'\\\n",
    "      '&time_period=25'\\\n",
    "      '&series_type=close'\\\n",
    "      '&datatype=csv'\\\n",
    "      '&apikey=OW4NZBLAQU5EBFEV'\\\n",
    "      '&symbol=%s' % stock\n",
    "new = pd.read_csv(CSV, parse_dates=['time'])\n",
    "new.rename(columns={'time': 'date', 'Aroon Down': 'aroon_dn', 'Aroon Up': 'aroon_up'}, inplace=True)\n",
    "new.sort_values(by='date', inplace=True)\n",
    "new.set_index('date', inplace=True)\n",
    "new.drop(new[new.index < start].index, inplace=True)\n",
    "new.drop(new[new.index > finish].index, inplace=True)\n",
    "df = df.merge(new, how='outer', left_index=True, right_index=True)"
   ]
  },
  {
   "cell_type": "markdown",
   "metadata": {},
   "source": [
    "### 10: Chaikin A/D"
   ]
  },
  {
   "cell_type": "code",
   "execution_count": null,
   "metadata": {},
   "outputs": [],
   "source": [
    "CSV = 'https://www.alphavantage.co/query?function=AD'\\\n",
    "      '&interval=daily'\\\n",
    "      '&datatype=csv'\\\n",
    "      '&apikey=OW4NZBLAQU5EBFEV'\\\n",
    "      '&symbol=%s' % stock\n",
    "new = pd.read_csv(CSV, parse_dates=['time'])\n",
    "new.rename(columns={'time': 'date', 'Chaikin A/D': 'chaikin'}, inplace=True)\n",
    "new.sort_values(by='date', inplace=True)\n",
    "new.set_index('date', inplace=True)\n",
    "new.drop(new[new.index < start].index, inplace=True)\n",
    "new.drop(new[new.index > finish].index, inplace=True)\n",
    "df = df.merge(new, how='outer', left_index=True, right_index=True)"
   ]
  },
  {
   "cell_type": "markdown",
   "metadata": {},
   "source": [
    "### 11: On-Balance Volume"
   ]
  },
  {
   "cell_type": "code",
   "execution_count": null,
   "metadata": {},
   "outputs": [],
   "source": [
    "CSV = 'https://www.alphavantage.co/query?function=OBV'\\\n",
    "      '&interval=daily'\\\n",
    "      '&datatype=csv'\\\n",
    "      '&apikey=OW4NZBLAQU5EBFEV'\\\n",
    "      '&symbol=%s' % stock\n",
    "new = pd.read_csv(CSV, parse_dates=['time'])\n",
    "new.rename(columns={'time': 'date', 'OBV': 'obv'}, inplace=True)\n",
    "new.sort_values(by='date', inplace=True)\n",
    "new.set_index('date', inplace=True)\n",
    "new.drop(new[new.index < start].index, inplace=True)\n",
    "new.drop(new[new.index > finish].index, inplace=True)\n",
    "df = df.merge(new, how='outer', left_index=True, right_index=True)"
   ]
  },
  {
   "cell_type": "markdown",
   "metadata": {},
   "source": [
    "### 12: Momentum"
   ]
  },
  {
   "cell_type": "code",
   "execution_count": null,
   "metadata": {},
   "outputs": [],
   "source": [
    "CSV = 'https://www.alphavantage.co/query?function=MOM'\\\n",
    "      '&interval=daily'\\\n",
    "      '&time_period=10'\\\n",
    "      '&series_type=close'\\\n",
    "      '&datatype=csv'\\\n",
    "      '&apikey=OW4NZBLAQU5EBFEV'\\\n",
    "      '&symbol=%s' % stock\n",
    "new = pd.read_csv(CSV, parse_dates=['time'])\n",
    "new.rename(columns={'time': 'date', 'MOM': 'momentum'}, inplace=True)\n",
    "new.sort_values(by='date', inplace=True)\n",
    "new.set_index('date', inplace=True)\n",
    "new.drop(new[new.index < start].index, inplace=True)\n",
    "new.drop(new[new.index > finish].index, inplace=True)\n",
    "df = df.merge(new, how='outer', left_index=True, right_index=True)"
   ]
  },
  {
   "cell_type": "code",
   "execution_count": null,
   "metadata": {},
   "outputs": [],
   "source": [
    "save1 = copy.deepcopy(df)"
   ]
  },
  {
   "cell_type": "markdown",
   "metadata": {},
   "source": [
    "# Fundamental Indicies"
   ]
  },
  {
   "cell_type": "markdown",
   "metadata": {},
   "source": [
    "### 13: MSCI ACWI _(via iShares MSCI ACWI ETF)_"
   ]
  },
  {
   "cell_type": "code",
   "execution_count": 35,
   "metadata": {},
   "outputs": [],
   "source": [
    "CSV = 'https://www.alphavantage.co/query?function=TIME_SERIES_DAILY_ADJUSTED'\\\n",
    "      '&outputsize=full'\\\n",
    "      '&datatype=csv'\\\n",
    "      '&apikey=OW4NZBLAQU5EBFEV'\\\n",
    "      '&symbol=ACWI'\n",
    "df = pd.read_csv(CSV, usecols=[0, 5], parse_dates=['timestamp'])\n",
    "df.rename(columns={'timestamp': 'date', 'adjusted_close': 'world'}, inplace=True)\n",
    "df.sort_values(by='date', inplace=True)\n",
    "df.set_index('date', inplace=True)\n",
    "df.drop(df[df.index < start].index, inplace=True)\n",
    "df.drop(df[df.index > finish].index, inplace=True)"
   ]
  },
  {
   "cell_type": "markdown",
   "metadata": {},
   "source": [
    "### 14: MSCI Pacific _(via iShares MSCI Pacific ex Japan ETF)_ "
   ]
  },
  {
   "cell_type": "code",
   "execution_count": 36,
   "metadata": {},
   "outputs": [],
   "source": [
    "CSV = 'https://www.alphavantage.co/query?function=TIME_SERIES_DAILY_ADJUSTED'\\\n",
    "      '&outputsize=full'\\\n",
    "      '&datatype=csv'\\\n",
    "      '&apikey=OW4NZBLAQU5EBFEV'\\\n",
    "      '&symbol=EPP'\n",
    "new = pd.read_csv(CSV, usecols=[0, 5], parse_dates=['timestamp'])\n",
    "new.rename(columns={'timestamp': 'date', 'adjusted_close': 'pacific'}, inplace=True)\n",
    "new.sort_values(by='date', inplace=True)\n",
    "new.set_index('date', inplace=True)\n",
    "new.drop(new[new.index < start].index, inplace=True)\n",
    "new.drop(new[new.index > finish].index, inplace=True)\n",
    "df = df.merge(new, how='outer', left_index=True, right_index=True)"
   ]
  },
  {
   "cell_type": "markdown",
   "metadata": {},
   "source": [
    "### 15: ASX 200"
   ]
  },
  {
   "cell_type": "code",
   "execution_count": 37,
   "metadata": {},
   "outputs": [],
   "source": [
    "CSV = 'https://www.alphavantage.co/query?function=TIME_SERIES_DAILY_ADJUSTED'\\\n",
    "      '&outputsize=full'\\\n",
    "      '&datatype=csv'\\\n",
    "      '&apikey=OW4NZBLAQU5EBFEV'\\\n",
    "      '&symbol=^AXJO'\n",
    "new = pd.read_csv(CSV, usecols=[0, 5], parse_dates=['timestamp'])\n",
    "new.rename(columns={'timestamp': 'date', 'adjusted_close': 'asx200'}, inplace=True)\n",
    "new.sort_values(by='date', inplace=True)\n",
    "new.set_index('date', inplace=True)\n",
    "new.drop(new[new.index < start].index, inplace=True)\n",
    "new.drop(new[new.index > finish].index, inplace=True)\n",
    "df = df.merge(new, how='outer', left_index=True, right_index=True)"
   ]
  },
  {
   "cell_type": "markdown",
   "metadata": {},
   "source": [
    "### 16: ASX Volatility Index"
   ]
  },
  {
   "cell_type": "code",
   "execution_count": 38,
   "metadata": {},
   "outputs": [],
   "source": [
    "CSV = 'axvi.csv'\n",
    "new = pd.read_csv(CSV, usecols=[0, 1], parse_dates=['Date'])\n",
    "new.rename(columns={'Date': 'date', 'Price': 'axvi'}, inplace=True)\n",
    "new.sort_values(by='date', inplace=True)\n",
    "new.set_index('date', inplace=True)\n",
    "new.drop(new[new.index < start].index, inplace=True)\n",
    "new.drop(new[new.index > finish].index, inplace=True)\n",
    "df = df.merge(new, how='outer', left_index=True, right_index=True)"
   ]
  },
  {
   "cell_type": "markdown",
   "metadata": {},
   "source": [
    "### 17: ASX Sectors"
   ]
  },
  {
   "cell_type": "code",
   "execution_count": 39,
   "metadata": {},
   "outputs": [],
   "source": [
    "sectors = {'XDJ': 'discretionary',\n",
    "           'XSJ': 'staples',\n",
    "           'XEJ': 'energy',\n",
    "           'XXJ': 'financials',\n",
    "           'XHJ': 'healthcare',\n",
    "           'XNJ': 'industrials',\n",
    "           'XIJ': 'infotech',\n",
    "           'XMJ': 'materials',\n",
    "           'XTJ': 'telecom',\n",
    "           'XUJ': 'utilities',\n",
    "           'XRJ': 'realestate'}\n",
    "\n",
    "for sector in sectors.keys():\n",
    "    CSV = sector.lower() + '.csv'\n",
    "    new = pd.read_csv(CSV, usecols=[0, 1], parse_dates=['Date'])\n",
    "    new.rename(columns={'Date': 'date', 'Price': sectors[sector]}, inplace=True)\n",
    "    new.sort_values(by='date', inplace=True)\n",
    "    new.set_index('date', inplace=True)\n",
    "    new[sectors[sector]] = pd.to_numeric(new[sectors[sector]].str.replace(',', ''))\n",
    "    new.drop(new[new.index < start].index, inplace=True)\n",
    "    new.drop(new[new.index > finish].index, inplace=True)\n",
    "    df = df.merge(new, how='outer', left_index=True, right_index=True)"
   ]
  },
  {
   "cell_type": "markdown",
   "metadata": {},
   "source": [
    "### 18: AUD/USD"
   ]
  },
  {
   "cell_type": "code",
   "execution_count": 40,
   "metadata": {},
   "outputs": [],
   "source": [
    "CSV = 'https://www.alphavantage.co/query?function=FX_DAILY'\\\n",
    "      '&from_symbol=AUD'\\\n",
    "      '&to_symbol=USD'\\\n",
    "      '&outputsize=full'\\\n",
    "      '&datatype=csv'\\\n",
    "      '&apikey=OW4NZBLAQU5EBFEV'\n",
    "new = pd.read_csv(CSV, usecols=[0, 4], parse_dates=['timestamp'])\n",
    "new.rename(columns={'timestamp': 'date', 'close': 'aud_usd'}, inplace=True)\n",
    "new.sort_values(by='date', inplace=True)\n",
    "new.set_index('date', inplace=True)\n",
    "new.drop(new[new.index < start].index, inplace=True)\n",
    "new.drop(new[new.index > finish].index, inplace=True)\n",
    "df = df.merge(new, how='outer', left_index=True, right_index=True)"
   ]
  },
  {
   "cell_type": "markdown",
   "metadata": {},
   "source": [
    "### 19: AUD Trade-weighted Index"
   ]
  },
  {
   "cell_type": "code",
   "execution_count": 41,
   "metadata": {},
   "outputs": [],
   "source": [
    "CSV = 'https://www.quandl.com/api/v3/datasets/RBA/FXRTWI.csv?api_key=-hHfVg2mQgsE_ViWacbY'\n",
    "new = pd.read_csv(CSV, parse_dates=['Date'])\n",
    "new.rename(columns={'Date': 'date', 'Value': 'twi'}, inplace=True)\n",
    "new.sort_values(by='date', inplace=True)\n",
    "new.set_index('date', inplace=True)\n",
    "new.drop(new[new.index < start].index, inplace=True)\n",
    "new.drop(new[new.index > finish].index, inplace=True)\n",
    "df = df.merge(new, how='outer', left_index=True, right_index=True)"
   ]
  },
  {
   "cell_type": "markdown",
   "metadata": {},
   "source": [
    "### 20: CBA Prime Rate"
   ]
  },
  {
   "cell_type": "code",
   "execution_count": 42,
   "metadata": {},
   "outputs": [],
   "source": [
    "CSV = 'prime.csv'\n",
    "new = pd.read_csv(CSV, parse_dates=['Month'])\n",
    "new.rename(columns={'Month': 'date', 'Rate': 'prime'}, inplace=True)\n",
    "new.sort_values(by='date', inplace=True)\n",
    "new.set_index('date', inplace=True)\n",
    "new.drop(new[new.index < start].index, inplace=True)\n",
    "new.drop(new[new.index > finish].index, inplace=True)\n",
    "df =df.merge(new, how='outer', left_index=True, right_index=True)"
   ]
  },
  {
   "cell_type": "code",
   "execution_count": 63,
   "metadata": {},
   "outputs": [
    {
     "data": {
      "text/html": [
       "<div>\n",
       "<style scoped>\n",
       "    .dataframe tbody tr th:only-of-type {\n",
       "        vertical-align: middle;\n",
       "    }\n",
       "\n",
       "    .dataframe tbody tr th {\n",
       "        vertical-align: top;\n",
       "    }\n",
       "\n",
       "    .dataframe thead th {\n",
       "        text-align: right;\n",
       "    }\n",
       "</style>\n",
       "<table border=\"1\" class=\"dataframe\">\n",
       "  <thead>\n",
       "    <tr style=\"text-align: right;\">\n",
       "      <th></th>\n",
       "      <th>world</th>\n",
       "      <th>pacific</th>\n",
       "      <th>asx200</th>\n",
       "      <th>axvi</th>\n",
       "      <th>discretionary</th>\n",
       "      <th>staples</th>\n",
       "      <th>energy</th>\n",
       "      <th>financials</th>\n",
       "      <th>healthcare</th>\n",
       "      <th>industrials</th>\n",
       "      <th>infotech</th>\n",
       "      <th>materials</th>\n",
       "      <th>telecom</th>\n",
       "      <th>utilities</th>\n",
       "      <th>realestate</th>\n",
       "      <th>aud_usd</th>\n",
       "      <th>twi</th>\n",
       "      <th>prime</th>\n",
       "    </tr>\n",
       "    <tr>\n",
       "      <th>date</th>\n",
       "      <th></th>\n",
       "      <th></th>\n",
       "      <th></th>\n",
       "      <th></th>\n",
       "      <th></th>\n",
       "      <th></th>\n",
       "      <th></th>\n",
       "      <th></th>\n",
       "      <th></th>\n",
       "      <th></th>\n",
       "      <th></th>\n",
       "      <th></th>\n",
       "      <th></th>\n",
       "      <th></th>\n",
       "      <th></th>\n",
       "      <th></th>\n",
       "      <th></th>\n",
       "      <th></th>\n",
       "    </tr>\n",
       "  </thead>\n",
       "  <tbody>\n",
       "    <tr>\n",
       "      <th>2009-07-01</th>\n",
       "      <td>28.1991</td>\n",
       "      <td>20.9295</td>\n",
       "      <td>3874.0000</td>\n",
       "      <td>25.145</td>\n",
       "      <td>1285.0</td>\n",
       "      <td>6568.2</td>\n",
       "      <td>14488.6</td>\n",
       "      <td>4195.6</td>\n",
       "      <td>8029.0</td>\n",
       "      <td>2934.0</td>\n",
       "      <td>518.4</td>\n",
       "      <td>9916.8</td>\n",
       "      <td>1159.6</td>\n",
       "      <td>3901.0</td>\n",
       "      <td>1684.7</td>\n",
       "      <td>0.8092</td>\n",
       "      <td>64.3</td>\n",
       "      <td>6.52</td>\n",
       "    </tr>\n",
       "    <tr>\n",
       "      <th>2009-07-02</th>\n",
       "      <td>27.3440</td>\n",
       "      <td>20.1670</td>\n",
       "      <td>3877.3000</td>\n",
       "      <td>24.350</td>\n",
       "      <td>1283.3</td>\n",
       "      <td>6564.9</td>\n",
       "      <td>14259.5</td>\n",
       "      <td>4181.1</td>\n",
       "      <td>8028.9</td>\n",
       "      <td>2908.4</td>\n",
       "      <td>515.1</td>\n",
       "      <td>10003.4</td>\n",
       "      <td>1162.3</td>\n",
       "      <td>3897.0</td>\n",
       "      <td>1729.2</td>\n",
       "      <td>0.7905</td>\n",
       "      <td>64.2</td>\n",
       "      <td>NaN</td>\n",
       "    </tr>\n",
       "    <tr>\n",
       "      <th>2009-07-03</th>\n",
       "      <td>NaN</td>\n",
       "      <td>NaN</td>\n",
       "      <td>3828.2000</td>\n",
       "      <td>25.518</td>\n",
       "      <td>1264.9</td>\n",
       "      <td>6599.6</td>\n",
       "      <td>14134.1</td>\n",
       "      <td>4144.7</td>\n",
       "      <td>7924.1</td>\n",
       "      <td>2867.3</td>\n",
       "      <td>510.9</td>\n",
       "      <td>9730.6</td>\n",
       "      <td>1150.9</td>\n",
       "      <td>3897.3</td>\n",
       "      <td>1715.0</td>\n",
       "      <td>0.7990</td>\n",
       "      <td>63.8</td>\n",
       "      <td>NaN</td>\n",
       "    </tr>\n",
       "    <tr>\n",
       "      <th>2009-07-06</th>\n",
       "      <td>27.3198</td>\n",
       "      <td>20.0684</td>\n",
       "      <td>3783.7000</td>\n",
       "      <td>25.511</td>\n",
       "      <td>1250.9</td>\n",
       "      <td>6618.5</td>\n",
       "      <td>13825.1</td>\n",
       "      <td>4113.9</td>\n",
       "      <td>7764.3</td>\n",
       "      <td>2857.2</td>\n",
       "      <td>505.1</td>\n",
       "      <td>9510.8</td>\n",
       "      <td>1138.6</td>\n",
       "      <td>3841.9</td>\n",
       "      <td>1715.7</td>\n",
       "      <td>0.7957</td>\n",
       "      <td>63.6</td>\n",
       "      <td>NaN</td>\n",
       "    </tr>\n",
       "    <tr>\n",
       "      <th>2009-07-07</th>\n",
       "      <td>26.7714</td>\n",
       "      <td>19.5820</td>\n",
       "      <td>3766.8999</td>\n",
       "      <td>25.685</td>\n",
       "      <td>1240.0</td>\n",
       "      <td>6628.2</td>\n",
       "      <td>13681.2</td>\n",
       "      <td>4106.5</td>\n",
       "      <td>7777.3</td>\n",
       "      <td>2852.7</td>\n",
       "      <td>507.7</td>\n",
       "      <td>9414.9</td>\n",
       "      <td>1149.0</td>\n",
       "      <td>3947.0</td>\n",
       "      <td>1683.6</td>\n",
       "      <td>0.7894</td>\n",
       "      <td>63.8</td>\n",
       "      <td>NaN</td>\n",
       "    </tr>\n",
       "  </tbody>\n",
       "</table>\n",
       "</div>"
      ],
      "text/plain": [
       "              world  pacific     asx200    axvi  discretionary  staples  \\\n",
       "date                                                                      \n",
       "2009-07-01  28.1991  20.9295  3874.0000  25.145         1285.0   6568.2   \n",
       "2009-07-02  27.3440  20.1670  3877.3000  24.350         1283.3   6564.9   \n",
       "2009-07-03      NaN      NaN  3828.2000  25.518         1264.9   6599.6   \n",
       "2009-07-06  27.3198  20.0684  3783.7000  25.511         1250.9   6618.5   \n",
       "2009-07-07  26.7714  19.5820  3766.8999  25.685         1240.0   6628.2   \n",
       "\n",
       "             energy  financials  healthcare  industrials  infotech  materials  \\\n",
       "date                                                                            \n",
       "2009-07-01  14488.6      4195.6      8029.0       2934.0     518.4     9916.8   \n",
       "2009-07-02  14259.5      4181.1      8028.9       2908.4     515.1    10003.4   \n",
       "2009-07-03  14134.1      4144.7      7924.1       2867.3     510.9     9730.6   \n",
       "2009-07-06  13825.1      4113.9      7764.3       2857.2     505.1     9510.8   \n",
       "2009-07-07  13681.2      4106.5      7777.3       2852.7     507.7     9414.9   \n",
       "\n",
       "            telecom  utilities  realestate  aud_usd   twi  prime  \n",
       "date                                                              \n",
       "2009-07-01   1159.6     3901.0      1684.7   0.8092  64.3   6.52  \n",
       "2009-07-02   1162.3     3897.0      1729.2   0.7905  64.2    NaN  \n",
       "2009-07-03   1150.9     3897.3      1715.0   0.7990  63.8    NaN  \n",
       "2009-07-06   1138.6     3841.9      1715.7   0.7957  63.6    NaN  \n",
       "2009-07-07   1149.0     3947.0      1683.6   0.7894  63.8    NaN  "
      ]
     },
     "execution_count": 63,
     "metadata": {},
     "output_type": "execute_result"
    }
   ],
   "source": [
    "df.head()"
   ]
  },
  {
   "cell_type": "code",
   "execution_count": null,
   "metadata": {},
   "outputs": [],
   "source": [
    "for idx, row in df.iterrows():\n",
    "    for col in df.columns:\n",
    "        if not np.isnan(row[col]):\n",
    "            index_log = IndexLog(date=idx, index=col, value=row[col])\n",
    "            index_log.save()"
   ]
  },
  {
   "cell_type": "markdown",
   "metadata": {},
   "source": [
    "# Update Stocks"
   ]
  },
  {
   "cell_type": "code",
   "execution_count": 8,
   "metadata": {},
   "outputs": [],
   "source": [
    "import pandas as pd\n",
    "import numpy as np\n",
    "import matplotlib.pyplot as plt\n",
    "from model import Company, StockLog, IndexLog\n",
    "from model import start_engine\n",
    "from datetime import date, datetime"
   ]
  },
  {
   "cell_type": "code",
   "execution_count": null,
   "metadata": {},
   "outputs": [],
   "source": [
    "engine = start_engine()"
   ]
  },
  {
   "cell_type": "code",
   "execution_count": 27,
   "metadata": {},
   "outputs": [],
   "source": [
    "stock_log = StockLog().query()\n",
    "df = pd.read_sql(stock_log.statement, engine)\n",
    "last_date = max(df['date'])"
   ]
  },
  {
   "cell_type": "code",
   "execution_count": 28,
   "metadata": {},
   "outputs": [],
   "source": [
    "companies = Company().query()\n",
    "df = pd.read_sql(companies.statement, engine)\n",
    "companies = set(df['code'])"
   ]
  },
  {
   "cell_type": "code",
   "execution_count": 41,
   "metadata": {},
   "outputs": [
    {
     "name": "stdout",
     "output_type": "stream",
     "text": [
      "<model.StockLog object at 0x7f52eba89908>\n",
      "<model.StockLog object at 0x7f52eba7ef28>\n",
      "<model.StockLog object at 0x7f52eba7ec18>\n",
      "<model.StockLog object at 0x7f52eba89908>\n",
      "<model.StockLog object at 0x7f52eba7ef28>\n",
      "<model.StockLog object at 0x7f52eba7ec18>\n",
      "<model.StockLog object at 0x7f52eba89908>\n",
      "<model.StockLog object at 0x7f52eba7ef28>\n",
      "<model.StockLog object at 0x7f52eba7ec18>\n",
      "<model.StockLog object at 0x7f52eba89908>\n",
      "<model.StockLog object at 0x7f52eba7ef28>\n",
      "<model.StockLog object at 0x7f52eba7ec18>\n",
      "<model.StockLog object at 0x7f52eba89908>\n",
      "<model.StockLog object at 0x7f52eba7ef28>\n",
      "<model.StockLog object at 0x7f52eba7ec18>\n",
      "<model.StockLog object at 0x7f52eba89908>\n",
      "<model.StockLog object at 0x7f52eba7ef28>\n",
      "<model.StockLog object at 0x7f52eba7ec18>\n",
      "<model.StockLog object at 0x7f52eba89908>\n",
      "<model.StockLog object at 0x7f52eba7ef28>\n",
      "<model.StockLog object at 0x7f52eba7ec18>\n",
      "<model.StockLog object at 0x7f52eba89908>\n"
     ]
    },
    {
     "ename": "KeyboardInterrupt",
     "evalue": "",
     "output_type": "error",
     "traceback": [
      "\u001b[0;31m---------------------------------------------------------------------------\u001b[0m",
      "\u001b[0;31mKeyboardInterrupt\u001b[0m                         Traceback (most recent call last)",
      "\u001b[0;32m<ipython-input-41-43799d067e6c>\u001b[0m in \u001b[0;36m<module>\u001b[0;34m\u001b[0m\n\u001b[1;32m      5\u001b[0m           \u001b[0;34m'&apikey=OW4NZBLAQU5EBFEV'\u001b[0m\u001b[0;31m\\\u001b[0m\u001b[0;34m\u001b[0m\u001b[0;34m\u001b[0m\u001b[0m\n\u001b[1;32m      6\u001b[0m           \u001b[0;34m'&symbol=%s.AX'\u001b[0m \u001b[0;34m%\u001b[0m \u001b[0mcompany\u001b[0m\u001b[0;34m\u001b[0m\u001b[0;34m\u001b[0m\u001b[0m\n\u001b[0;32m----> 7\u001b[0;31m     \u001b[0mdf\u001b[0m \u001b[0;34m=\u001b[0m \u001b[0mpd\u001b[0m\u001b[0;34m.\u001b[0m\u001b[0mread_csv\u001b[0m\u001b[0;34m(\u001b[0m\u001b[0mCSV\u001b[0m\u001b[0;34m,\u001b[0m \u001b[0musecols\u001b[0m\u001b[0;34m=\u001b[0m\u001b[0;34m[\u001b[0m\u001b[0;36m0\u001b[0m\u001b[0;34m,\u001b[0m \u001b[0;36m1\u001b[0m\u001b[0;34m,\u001b[0m \u001b[0;36m2\u001b[0m\u001b[0;34m,\u001b[0m \u001b[0;36m3\u001b[0m\u001b[0;34m,\u001b[0m \u001b[0;36m4\u001b[0m\u001b[0;34m,\u001b[0m \u001b[0;36m5\u001b[0m\u001b[0;34m,\u001b[0m \u001b[0;36m6\u001b[0m\u001b[0;34m]\u001b[0m\u001b[0;34m,\u001b[0m \u001b[0mparse_dates\u001b[0m\u001b[0;34m=\u001b[0m\u001b[0;34m[\u001b[0m\u001b[0;34m'timestamp'\u001b[0m\u001b[0;34m]\u001b[0m\u001b[0;34m)\u001b[0m\u001b[0;34m\u001b[0m\u001b[0;34m\u001b[0m\u001b[0m\n\u001b[0m\u001b[1;32m      8\u001b[0m     \u001b[0mdf\u001b[0m\u001b[0;34m.\u001b[0m\u001b[0mrename\u001b[0m\u001b[0;34m(\u001b[0m\u001b[0mcolumns\u001b[0m\u001b[0;34m=\u001b[0m\u001b[0;34m{\u001b[0m\u001b[0;34m'timestamp'\u001b[0m\u001b[0;34m:\u001b[0m \u001b[0;34m'date'\u001b[0m\u001b[0;34m}\u001b[0m\u001b[0;34m,\u001b[0m \u001b[0minplace\u001b[0m\u001b[0;34m=\u001b[0m\u001b[0;32mTrue\u001b[0m\u001b[0;34m)\u001b[0m\u001b[0;34m\u001b[0m\u001b[0;34m\u001b[0m\u001b[0m\n\u001b[1;32m      9\u001b[0m     \u001b[0mdf\u001b[0m\u001b[0;34m.\u001b[0m\u001b[0msort_values\u001b[0m\u001b[0;34m(\u001b[0m\u001b[0mby\u001b[0m\u001b[0;34m=\u001b[0m\u001b[0;34m'date'\u001b[0m\u001b[0;34m,\u001b[0m \u001b[0minplace\u001b[0m\u001b[0;34m=\u001b[0m\u001b[0;32mTrue\u001b[0m\u001b[0;34m)\u001b[0m\u001b[0;34m\u001b[0m\u001b[0;34m\u001b[0m\u001b[0m\n",
      "\u001b[0;32m/usr/local/anaconda/lib/python3.7/site-packages/pandas/io/parsers.py\u001b[0m in \u001b[0;36mparser_f\u001b[0;34m(filepath_or_buffer, sep, delimiter, header, names, index_col, usecols, squeeze, prefix, mangle_dupe_cols, dtype, engine, converters, true_values, false_values, skipinitialspace, skiprows, skipfooter, nrows, na_values, keep_default_na, na_filter, verbose, skip_blank_lines, parse_dates, infer_datetime_format, keep_date_col, date_parser, dayfirst, iterator, chunksize, compression, thousands, decimal, lineterminator, quotechar, quoting, doublequote, escapechar, comment, encoding, dialect, tupleize_cols, error_bad_lines, warn_bad_lines, delim_whitespace, low_memory, memory_map, float_precision)\u001b[0m\n\u001b[1;32m    700\u001b[0m                     skip_blank_lines=skip_blank_lines)\n\u001b[1;32m    701\u001b[0m \u001b[0;34m\u001b[0m\u001b[0m\n\u001b[0;32m--> 702\u001b[0;31m         \u001b[0;32mreturn\u001b[0m \u001b[0m_read\u001b[0m\u001b[0;34m(\u001b[0m\u001b[0mfilepath_or_buffer\u001b[0m\u001b[0;34m,\u001b[0m \u001b[0mkwds\u001b[0m\u001b[0;34m)\u001b[0m\u001b[0;34m\u001b[0m\u001b[0;34m\u001b[0m\u001b[0m\n\u001b[0m\u001b[1;32m    703\u001b[0m \u001b[0;34m\u001b[0m\u001b[0m\n\u001b[1;32m    704\u001b[0m     \u001b[0mparser_f\u001b[0m\u001b[0;34m.\u001b[0m\u001b[0m__name__\u001b[0m \u001b[0;34m=\u001b[0m \u001b[0mname\u001b[0m\u001b[0;34m\u001b[0m\u001b[0;34m\u001b[0m\u001b[0m\n",
      "\u001b[0;32m/usr/local/anaconda/lib/python3.7/site-packages/pandas/io/parsers.py\u001b[0m in \u001b[0;36m_read\u001b[0;34m(filepath_or_buffer, kwds)\u001b[0m\n\u001b[1;32m    411\u001b[0m     \u001b[0mcompression\u001b[0m \u001b[0;34m=\u001b[0m \u001b[0m_infer_compression\u001b[0m\u001b[0;34m(\u001b[0m\u001b[0mfilepath_or_buffer\u001b[0m\u001b[0;34m,\u001b[0m \u001b[0mcompression\u001b[0m\u001b[0;34m)\u001b[0m\u001b[0;34m\u001b[0m\u001b[0;34m\u001b[0m\u001b[0m\n\u001b[1;32m    412\u001b[0m     filepath_or_buffer, _, compression, should_close = get_filepath_or_buffer(\n\u001b[0;32m--> 413\u001b[0;31m         filepath_or_buffer, encoding, compression)\n\u001b[0m\u001b[1;32m    414\u001b[0m     \u001b[0mkwds\u001b[0m\u001b[0;34m[\u001b[0m\u001b[0;34m'compression'\u001b[0m\u001b[0;34m]\u001b[0m \u001b[0;34m=\u001b[0m \u001b[0mcompression\u001b[0m\u001b[0;34m\u001b[0m\u001b[0;34m\u001b[0m\u001b[0m\n\u001b[1;32m    415\u001b[0m \u001b[0;34m\u001b[0m\u001b[0m\n",
      "\u001b[0;32m/usr/local/anaconda/lib/python3.7/site-packages/pandas/io/common.py\u001b[0m in \u001b[0;36mget_filepath_or_buffer\u001b[0;34m(filepath_or_buffer, encoding, compression, mode)\u001b[0m\n\u001b[1;32m    200\u001b[0m \u001b[0;34m\u001b[0m\u001b[0m\n\u001b[1;32m    201\u001b[0m     \u001b[0;32mif\u001b[0m \u001b[0m_is_url\u001b[0m\u001b[0;34m(\u001b[0m\u001b[0mfilepath_or_buffer\u001b[0m\u001b[0;34m)\u001b[0m\u001b[0;34m:\u001b[0m\u001b[0;34m\u001b[0m\u001b[0;34m\u001b[0m\u001b[0m\n\u001b[0;32m--> 202\u001b[0;31m         \u001b[0mreq\u001b[0m \u001b[0;34m=\u001b[0m \u001b[0m_urlopen\u001b[0m\u001b[0;34m(\u001b[0m\u001b[0mfilepath_or_buffer\u001b[0m\u001b[0;34m)\u001b[0m\u001b[0;34m\u001b[0m\u001b[0;34m\u001b[0m\u001b[0m\n\u001b[0m\u001b[1;32m    203\u001b[0m         \u001b[0mcontent_encoding\u001b[0m \u001b[0;34m=\u001b[0m \u001b[0mreq\u001b[0m\u001b[0;34m.\u001b[0m\u001b[0mheaders\u001b[0m\u001b[0;34m.\u001b[0m\u001b[0mget\u001b[0m\u001b[0;34m(\u001b[0m\u001b[0;34m'Content-Encoding'\u001b[0m\u001b[0;34m,\u001b[0m \u001b[0;32mNone\u001b[0m\u001b[0;34m)\u001b[0m\u001b[0;34m\u001b[0m\u001b[0;34m\u001b[0m\u001b[0m\n\u001b[1;32m    204\u001b[0m         \u001b[0;32mif\u001b[0m \u001b[0mcontent_encoding\u001b[0m \u001b[0;34m==\u001b[0m \u001b[0;34m'gzip'\u001b[0m\u001b[0;34m:\u001b[0m\u001b[0;34m\u001b[0m\u001b[0;34m\u001b[0m\u001b[0m\n",
      "\u001b[0;32m/usr/local/anaconda/lib/python3.7/urllib/request.py\u001b[0m in \u001b[0;36murlopen\u001b[0;34m(url, data, timeout, cafile, capath, cadefault, context)\u001b[0m\n\u001b[1;32m    220\u001b[0m     \u001b[0;32melse\u001b[0m\u001b[0;34m:\u001b[0m\u001b[0;34m\u001b[0m\u001b[0;34m\u001b[0m\u001b[0m\n\u001b[1;32m    221\u001b[0m         \u001b[0mopener\u001b[0m \u001b[0;34m=\u001b[0m \u001b[0m_opener\u001b[0m\u001b[0;34m\u001b[0m\u001b[0;34m\u001b[0m\u001b[0m\n\u001b[0;32m--> 222\u001b[0;31m     \u001b[0;32mreturn\u001b[0m \u001b[0mopener\u001b[0m\u001b[0;34m.\u001b[0m\u001b[0mopen\u001b[0m\u001b[0;34m(\u001b[0m\u001b[0murl\u001b[0m\u001b[0;34m,\u001b[0m \u001b[0mdata\u001b[0m\u001b[0;34m,\u001b[0m \u001b[0mtimeout\u001b[0m\u001b[0;34m)\u001b[0m\u001b[0;34m\u001b[0m\u001b[0;34m\u001b[0m\u001b[0m\n\u001b[0m\u001b[1;32m    223\u001b[0m \u001b[0;34m\u001b[0m\u001b[0m\n\u001b[1;32m    224\u001b[0m \u001b[0;32mdef\u001b[0m \u001b[0minstall_opener\u001b[0m\u001b[0;34m(\u001b[0m\u001b[0mopener\u001b[0m\u001b[0;34m)\u001b[0m\u001b[0;34m:\u001b[0m\u001b[0;34m\u001b[0m\u001b[0;34m\u001b[0m\u001b[0m\n",
      "\u001b[0;32m/usr/local/anaconda/lib/python3.7/urllib/request.py\u001b[0m in \u001b[0;36mopen\u001b[0;34m(self, fullurl, data, timeout)\u001b[0m\n\u001b[1;32m    523\u001b[0m             \u001b[0mreq\u001b[0m \u001b[0;34m=\u001b[0m \u001b[0mmeth\u001b[0m\u001b[0;34m(\u001b[0m\u001b[0mreq\u001b[0m\u001b[0;34m)\u001b[0m\u001b[0;34m\u001b[0m\u001b[0;34m\u001b[0m\u001b[0m\n\u001b[1;32m    524\u001b[0m \u001b[0;34m\u001b[0m\u001b[0m\n\u001b[0;32m--> 525\u001b[0;31m         \u001b[0mresponse\u001b[0m \u001b[0;34m=\u001b[0m \u001b[0mself\u001b[0m\u001b[0;34m.\u001b[0m\u001b[0m_open\u001b[0m\u001b[0;34m(\u001b[0m\u001b[0mreq\u001b[0m\u001b[0;34m,\u001b[0m \u001b[0mdata\u001b[0m\u001b[0;34m)\u001b[0m\u001b[0;34m\u001b[0m\u001b[0;34m\u001b[0m\u001b[0m\n\u001b[0m\u001b[1;32m    526\u001b[0m \u001b[0;34m\u001b[0m\u001b[0m\n\u001b[1;32m    527\u001b[0m         \u001b[0;31m# post-process response\u001b[0m\u001b[0;34m\u001b[0m\u001b[0;34m\u001b[0m\u001b[0;34m\u001b[0m\u001b[0m\n",
      "\u001b[0;32m/usr/local/anaconda/lib/python3.7/urllib/request.py\u001b[0m in \u001b[0;36m_open\u001b[0;34m(self, req, data)\u001b[0m\n\u001b[1;32m    541\u001b[0m         \u001b[0mprotocol\u001b[0m \u001b[0;34m=\u001b[0m \u001b[0mreq\u001b[0m\u001b[0;34m.\u001b[0m\u001b[0mtype\u001b[0m\u001b[0;34m\u001b[0m\u001b[0;34m\u001b[0m\u001b[0m\n\u001b[1;32m    542\u001b[0m         result = self._call_chain(self.handle_open, protocol, protocol +\n\u001b[0;32m--> 543\u001b[0;31m                                   '_open', req)\n\u001b[0m\u001b[1;32m    544\u001b[0m         \u001b[0;32mif\u001b[0m \u001b[0mresult\u001b[0m\u001b[0;34m:\u001b[0m\u001b[0;34m\u001b[0m\u001b[0;34m\u001b[0m\u001b[0m\n\u001b[1;32m    545\u001b[0m             \u001b[0;32mreturn\u001b[0m \u001b[0mresult\u001b[0m\u001b[0;34m\u001b[0m\u001b[0;34m\u001b[0m\u001b[0m\n",
      "\u001b[0;32m/usr/local/anaconda/lib/python3.7/urllib/request.py\u001b[0m in \u001b[0;36m_call_chain\u001b[0;34m(self, chain, kind, meth_name, *args)\u001b[0m\n\u001b[1;32m    501\u001b[0m         \u001b[0;32mfor\u001b[0m \u001b[0mhandler\u001b[0m \u001b[0;32min\u001b[0m \u001b[0mhandlers\u001b[0m\u001b[0;34m:\u001b[0m\u001b[0;34m\u001b[0m\u001b[0;34m\u001b[0m\u001b[0m\n\u001b[1;32m    502\u001b[0m             \u001b[0mfunc\u001b[0m \u001b[0;34m=\u001b[0m \u001b[0mgetattr\u001b[0m\u001b[0;34m(\u001b[0m\u001b[0mhandler\u001b[0m\u001b[0;34m,\u001b[0m \u001b[0mmeth_name\u001b[0m\u001b[0;34m)\u001b[0m\u001b[0;34m\u001b[0m\u001b[0;34m\u001b[0m\u001b[0m\n\u001b[0;32m--> 503\u001b[0;31m             \u001b[0mresult\u001b[0m \u001b[0;34m=\u001b[0m \u001b[0mfunc\u001b[0m\u001b[0;34m(\u001b[0m\u001b[0;34m*\u001b[0m\u001b[0margs\u001b[0m\u001b[0;34m)\u001b[0m\u001b[0;34m\u001b[0m\u001b[0;34m\u001b[0m\u001b[0m\n\u001b[0m\u001b[1;32m    504\u001b[0m             \u001b[0;32mif\u001b[0m \u001b[0mresult\u001b[0m \u001b[0;32mis\u001b[0m \u001b[0;32mnot\u001b[0m \u001b[0;32mNone\u001b[0m\u001b[0;34m:\u001b[0m\u001b[0;34m\u001b[0m\u001b[0;34m\u001b[0m\u001b[0m\n\u001b[1;32m    505\u001b[0m                 \u001b[0;32mreturn\u001b[0m \u001b[0mresult\u001b[0m\u001b[0;34m\u001b[0m\u001b[0;34m\u001b[0m\u001b[0m\n",
      "\u001b[0;32m/usr/local/anaconda/lib/python3.7/urllib/request.py\u001b[0m in \u001b[0;36mhttps_open\u001b[0;34m(self, req)\u001b[0m\n\u001b[1;32m   1358\u001b[0m         \u001b[0;32mdef\u001b[0m \u001b[0mhttps_open\u001b[0m\u001b[0;34m(\u001b[0m\u001b[0mself\u001b[0m\u001b[0;34m,\u001b[0m \u001b[0mreq\u001b[0m\u001b[0;34m)\u001b[0m\u001b[0;34m:\u001b[0m\u001b[0;34m\u001b[0m\u001b[0;34m\u001b[0m\u001b[0m\n\u001b[1;32m   1359\u001b[0m             return self.do_open(http.client.HTTPSConnection, req,\n\u001b[0;32m-> 1360\u001b[0;31m                 context=self._context, check_hostname=self._check_hostname)\n\u001b[0m\u001b[1;32m   1361\u001b[0m \u001b[0;34m\u001b[0m\u001b[0m\n\u001b[1;32m   1362\u001b[0m         \u001b[0mhttps_request\u001b[0m \u001b[0;34m=\u001b[0m \u001b[0mAbstractHTTPHandler\u001b[0m\u001b[0;34m.\u001b[0m\u001b[0mdo_request_\u001b[0m\u001b[0;34m\u001b[0m\u001b[0;34m\u001b[0m\u001b[0m\n",
      "\u001b[0;32m/usr/local/anaconda/lib/python3.7/urllib/request.py\u001b[0m in \u001b[0;36mdo_open\u001b[0;34m(self, http_class, req, **http_conn_args)\u001b[0m\n\u001b[1;32m   1315\u001b[0m             \u001b[0;32mtry\u001b[0m\u001b[0;34m:\u001b[0m\u001b[0;34m\u001b[0m\u001b[0;34m\u001b[0m\u001b[0m\n\u001b[1;32m   1316\u001b[0m                 h.request(req.get_method(), req.selector, req.data, headers,\n\u001b[0;32m-> 1317\u001b[0;31m                           encode_chunked=req.has_header('Transfer-encoding'))\n\u001b[0m\u001b[1;32m   1318\u001b[0m             \u001b[0;32mexcept\u001b[0m \u001b[0mOSError\u001b[0m \u001b[0;32mas\u001b[0m \u001b[0merr\u001b[0m\u001b[0;34m:\u001b[0m \u001b[0;31m# timeout error\u001b[0m\u001b[0;34m\u001b[0m\u001b[0;34m\u001b[0m\u001b[0m\n\u001b[1;32m   1319\u001b[0m                 \u001b[0;32mraise\u001b[0m \u001b[0mURLError\u001b[0m\u001b[0;34m(\u001b[0m\u001b[0merr\u001b[0m\u001b[0;34m)\u001b[0m\u001b[0;34m\u001b[0m\u001b[0;34m\u001b[0m\u001b[0m\n",
      "\u001b[0;32m/usr/local/anaconda/lib/python3.7/http/client.py\u001b[0m in \u001b[0;36mrequest\u001b[0;34m(self, method, url, body, headers, encode_chunked)\u001b[0m\n\u001b[1;32m   1227\u001b[0m                 encode_chunked=False):\n\u001b[1;32m   1228\u001b[0m         \u001b[0;34m\"\"\"Send a complete request to the server.\"\"\"\u001b[0m\u001b[0;34m\u001b[0m\u001b[0;34m\u001b[0m\u001b[0m\n\u001b[0;32m-> 1229\u001b[0;31m         \u001b[0mself\u001b[0m\u001b[0;34m.\u001b[0m\u001b[0m_send_request\u001b[0m\u001b[0;34m(\u001b[0m\u001b[0mmethod\u001b[0m\u001b[0;34m,\u001b[0m \u001b[0murl\u001b[0m\u001b[0;34m,\u001b[0m \u001b[0mbody\u001b[0m\u001b[0;34m,\u001b[0m \u001b[0mheaders\u001b[0m\u001b[0;34m,\u001b[0m \u001b[0mencode_chunked\u001b[0m\u001b[0;34m)\u001b[0m\u001b[0;34m\u001b[0m\u001b[0;34m\u001b[0m\u001b[0m\n\u001b[0m\u001b[1;32m   1230\u001b[0m \u001b[0;34m\u001b[0m\u001b[0m\n\u001b[1;32m   1231\u001b[0m     \u001b[0;32mdef\u001b[0m \u001b[0m_send_request\u001b[0m\u001b[0;34m(\u001b[0m\u001b[0mself\u001b[0m\u001b[0;34m,\u001b[0m \u001b[0mmethod\u001b[0m\u001b[0;34m,\u001b[0m \u001b[0murl\u001b[0m\u001b[0;34m,\u001b[0m \u001b[0mbody\u001b[0m\u001b[0;34m,\u001b[0m \u001b[0mheaders\u001b[0m\u001b[0;34m,\u001b[0m \u001b[0mencode_chunked\u001b[0m\u001b[0;34m)\u001b[0m\u001b[0;34m:\u001b[0m\u001b[0;34m\u001b[0m\u001b[0;34m\u001b[0m\u001b[0m\n",
      "\u001b[0;32m/usr/local/anaconda/lib/python3.7/http/client.py\u001b[0m in \u001b[0;36m_send_request\u001b[0;34m(self, method, url, body, headers, encode_chunked)\u001b[0m\n\u001b[1;32m   1273\u001b[0m             \u001b[0;31m# default charset of iso-8859-1.\u001b[0m\u001b[0;34m\u001b[0m\u001b[0;34m\u001b[0m\u001b[0;34m\u001b[0m\u001b[0m\n\u001b[1;32m   1274\u001b[0m             \u001b[0mbody\u001b[0m \u001b[0;34m=\u001b[0m \u001b[0m_encode\u001b[0m\u001b[0;34m(\u001b[0m\u001b[0mbody\u001b[0m\u001b[0;34m,\u001b[0m \u001b[0;34m'body'\u001b[0m\u001b[0;34m)\u001b[0m\u001b[0;34m\u001b[0m\u001b[0;34m\u001b[0m\u001b[0m\n\u001b[0;32m-> 1275\u001b[0;31m         \u001b[0mself\u001b[0m\u001b[0;34m.\u001b[0m\u001b[0mendheaders\u001b[0m\u001b[0;34m(\u001b[0m\u001b[0mbody\u001b[0m\u001b[0;34m,\u001b[0m \u001b[0mencode_chunked\u001b[0m\u001b[0;34m=\u001b[0m\u001b[0mencode_chunked\u001b[0m\u001b[0;34m)\u001b[0m\u001b[0;34m\u001b[0m\u001b[0;34m\u001b[0m\u001b[0m\n\u001b[0m\u001b[1;32m   1276\u001b[0m \u001b[0;34m\u001b[0m\u001b[0m\n\u001b[1;32m   1277\u001b[0m     \u001b[0;32mdef\u001b[0m \u001b[0mgetresponse\u001b[0m\u001b[0;34m(\u001b[0m\u001b[0mself\u001b[0m\u001b[0;34m)\u001b[0m\u001b[0;34m:\u001b[0m\u001b[0;34m\u001b[0m\u001b[0;34m\u001b[0m\u001b[0m\n",
      "\u001b[0;32m/usr/local/anaconda/lib/python3.7/http/client.py\u001b[0m in \u001b[0;36mendheaders\u001b[0;34m(self, message_body, encode_chunked)\u001b[0m\n\u001b[1;32m   1222\u001b[0m         \u001b[0;32melse\u001b[0m\u001b[0;34m:\u001b[0m\u001b[0;34m\u001b[0m\u001b[0;34m\u001b[0m\u001b[0m\n\u001b[1;32m   1223\u001b[0m             \u001b[0;32mraise\u001b[0m \u001b[0mCannotSendHeader\u001b[0m\u001b[0;34m(\u001b[0m\u001b[0;34m)\u001b[0m\u001b[0;34m\u001b[0m\u001b[0;34m\u001b[0m\u001b[0m\n\u001b[0;32m-> 1224\u001b[0;31m         \u001b[0mself\u001b[0m\u001b[0;34m.\u001b[0m\u001b[0m_send_output\u001b[0m\u001b[0;34m(\u001b[0m\u001b[0mmessage_body\u001b[0m\u001b[0;34m,\u001b[0m \u001b[0mencode_chunked\u001b[0m\u001b[0;34m=\u001b[0m\u001b[0mencode_chunked\u001b[0m\u001b[0;34m)\u001b[0m\u001b[0;34m\u001b[0m\u001b[0;34m\u001b[0m\u001b[0m\n\u001b[0m\u001b[1;32m   1225\u001b[0m \u001b[0;34m\u001b[0m\u001b[0m\n\u001b[1;32m   1226\u001b[0m     def request(self, method, url, body=None, headers={}, *,\n",
      "\u001b[0;32m/usr/local/anaconda/lib/python3.7/http/client.py\u001b[0m in \u001b[0;36m_send_output\u001b[0;34m(self, message_body, encode_chunked)\u001b[0m\n\u001b[1;32m   1014\u001b[0m         \u001b[0mmsg\u001b[0m \u001b[0;34m=\u001b[0m \u001b[0;34mb\"\\r\\n\"\u001b[0m\u001b[0;34m.\u001b[0m\u001b[0mjoin\u001b[0m\u001b[0;34m(\u001b[0m\u001b[0mself\u001b[0m\u001b[0;34m.\u001b[0m\u001b[0m_buffer\u001b[0m\u001b[0;34m)\u001b[0m\u001b[0;34m\u001b[0m\u001b[0;34m\u001b[0m\u001b[0m\n\u001b[1;32m   1015\u001b[0m         \u001b[0;32mdel\u001b[0m \u001b[0mself\u001b[0m\u001b[0;34m.\u001b[0m\u001b[0m_buffer\u001b[0m\u001b[0;34m[\u001b[0m\u001b[0;34m:\u001b[0m\u001b[0;34m]\u001b[0m\u001b[0;34m\u001b[0m\u001b[0;34m\u001b[0m\u001b[0m\n\u001b[0;32m-> 1016\u001b[0;31m         \u001b[0mself\u001b[0m\u001b[0;34m.\u001b[0m\u001b[0msend\u001b[0m\u001b[0;34m(\u001b[0m\u001b[0mmsg\u001b[0m\u001b[0;34m)\u001b[0m\u001b[0;34m\u001b[0m\u001b[0;34m\u001b[0m\u001b[0m\n\u001b[0m\u001b[1;32m   1017\u001b[0m \u001b[0;34m\u001b[0m\u001b[0m\n\u001b[1;32m   1018\u001b[0m         \u001b[0;32mif\u001b[0m \u001b[0mmessage_body\u001b[0m \u001b[0;32mis\u001b[0m \u001b[0;32mnot\u001b[0m \u001b[0;32mNone\u001b[0m\u001b[0;34m:\u001b[0m\u001b[0;34m\u001b[0m\u001b[0;34m\u001b[0m\u001b[0m\n",
      "\u001b[0;32m/usr/local/anaconda/lib/python3.7/http/client.py\u001b[0m in \u001b[0;36msend\u001b[0;34m(self, data)\u001b[0m\n\u001b[1;32m    954\u001b[0m         \u001b[0;32mif\u001b[0m \u001b[0mself\u001b[0m\u001b[0;34m.\u001b[0m\u001b[0msock\u001b[0m \u001b[0;32mis\u001b[0m \u001b[0;32mNone\u001b[0m\u001b[0;34m:\u001b[0m\u001b[0;34m\u001b[0m\u001b[0;34m\u001b[0m\u001b[0m\n\u001b[1;32m    955\u001b[0m             \u001b[0;32mif\u001b[0m \u001b[0mself\u001b[0m\u001b[0;34m.\u001b[0m\u001b[0mauto_open\u001b[0m\u001b[0;34m:\u001b[0m\u001b[0;34m\u001b[0m\u001b[0;34m\u001b[0m\u001b[0m\n\u001b[0;32m--> 956\u001b[0;31m                 \u001b[0mself\u001b[0m\u001b[0;34m.\u001b[0m\u001b[0mconnect\u001b[0m\u001b[0;34m(\u001b[0m\u001b[0;34m)\u001b[0m\u001b[0;34m\u001b[0m\u001b[0;34m\u001b[0m\u001b[0m\n\u001b[0m\u001b[1;32m    957\u001b[0m             \u001b[0;32melse\u001b[0m\u001b[0;34m:\u001b[0m\u001b[0;34m\u001b[0m\u001b[0;34m\u001b[0m\u001b[0m\n\u001b[1;32m    958\u001b[0m                 \u001b[0;32mraise\u001b[0m \u001b[0mNotConnected\u001b[0m\u001b[0;34m(\u001b[0m\u001b[0;34m)\u001b[0m\u001b[0;34m\u001b[0m\u001b[0;34m\u001b[0m\u001b[0m\n",
      "\u001b[0;32m/usr/local/anaconda/lib/python3.7/http/client.py\u001b[0m in \u001b[0;36mconnect\u001b[0;34m(self)\u001b[0m\n\u001b[1;32m   1390\u001b[0m \u001b[0;34m\u001b[0m\u001b[0m\n\u001b[1;32m   1391\u001b[0m             self.sock = self._context.wrap_socket(self.sock,\n\u001b[0;32m-> 1392\u001b[0;31m                                                   server_hostname=server_hostname)\n\u001b[0m\u001b[1;32m   1393\u001b[0m \u001b[0;34m\u001b[0m\u001b[0m\n\u001b[1;32m   1394\u001b[0m     \u001b[0m__all__\u001b[0m\u001b[0;34m.\u001b[0m\u001b[0mappend\u001b[0m\u001b[0;34m(\u001b[0m\u001b[0;34m\"HTTPSConnection\"\u001b[0m\u001b[0;34m)\u001b[0m\u001b[0;34m\u001b[0m\u001b[0;34m\u001b[0m\u001b[0m\n",
      "\u001b[0;32m/usr/local/anaconda/lib/python3.7/ssl.py\u001b[0m in \u001b[0;36mwrap_socket\u001b[0;34m(self, sock, server_side, do_handshake_on_connect, suppress_ragged_eofs, server_hostname, session)\u001b[0m\n\u001b[1;32m    410\u001b[0m             \u001b[0mserver_hostname\u001b[0m\u001b[0;34m=\u001b[0m\u001b[0mserver_hostname\u001b[0m\u001b[0;34m,\u001b[0m\u001b[0;34m\u001b[0m\u001b[0;34m\u001b[0m\u001b[0m\n\u001b[1;32m    411\u001b[0m             \u001b[0mcontext\u001b[0m\u001b[0;34m=\u001b[0m\u001b[0mself\u001b[0m\u001b[0;34m,\u001b[0m\u001b[0;34m\u001b[0m\u001b[0;34m\u001b[0m\u001b[0m\n\u001b[0;32m--> 412\u001b[0;31m             \u001b[0msession\u001b[0m\u001b[0;34m=\u001b[0m\u001b[0msession\u001b[0m\u001b[0;34m\u001b[0m\u001b[0;34m\u001b[0m\u001b[0m\n\u001b[0m\u001b[1;32m    413\u001b[0m         )\n\u001b[1;32m    414\u001b[0m \u001b[0;34m\u001b[0m\u001b[0m\n",
      "\u001b[0;32m/usr/local/anaconda/lib/python3.7/ssl.py\u001b[0m in \u001b[0;36m_create\u001b[0;34m(cls, sock, server_side, do_handshake_on_connect, suppress_ragged_eofs, server_hostname, context, session)\u001b[0m\n\u001b[1;32m    851\u001b[0m                         \u001b[0;31m# non-blocking\u001b[0m\u001b[0;34m\u001b[0m\u001b[0;34m\u001b[0m\u001b[0;34m\u001b[0m\u001b[0m\n\u001b[1;32m    852\u001b[0m                         \u001b[0;32mraise\u001b[0m \u001b[0mValueError\u001b[0m\u001b[0;34m(\u001b[0m\u001b[0;34m\"do_handshake_on_connect should not be specified for non-blocking sockets\"\u001b[0m\u001b[0;34m)\u001b[0m\u001b[0;34m\u001b[0m\u001b[0;34m\u001b[0m\u001b[0m\n\u001b[0;32m--> 853\u001b[0;31m                     \u001b[0mself\u001b[0m\u001b[0;34m.\u001b[0m\u001b[0mdo_handshake\u001b[0m\u001b[0;34m(\u001b[0m\u001b[0;34m)\u001b[0m\u001b[0;34m\u001b[0m\u001b[0;34m\u001b[0m\u001b[0m\n\u001b[0m\u001b[1;32m    854\u001b[0m             \u001b[0;32mexcept\u001b[0m \u001b[0;34m(\u001b[0m\u001b[0mOSError\u001b[0m\u001b[0;34m,\u001b[0m \u001b[0mValueError\u001b[0m\u001b[0;34m)\u001b[0m\u001b[0;34m:\u001b[0m\u001b[0;34m\u001b[0m\u001b[0;34m\u001b[0m\u001b[0m\n\u001b[1;32m    855\u001b[0m                 \u001b[0mself\u001b[0m\u001b[0;34m.\u001b[0m\u001b[0mclose\u001b[0m\u001b[0;34m(\u001b[0m\u001b[0;34m)\u001b[0m\u001b[0;34m\u001b[0m\u001b[0;34m\u001b[0m\u001b[0m\n",
      "\u001b[0;32m/usr/local/anaconda/lib/python3.7/ssl.py\u001b[0m in \u001b[0;36mdo_handshake\u001b[0;34m(self, block)\u001b[0m\n\u001b[1;32m   1115\u001b[0m             \u001b[0;32mif\u001b[0m \u001b[0mtimeout\u001b[0m \u001b[0;34m==\u001b[0m \u001b[0;36m0.0\u001b[0m \u001b[0;32mand\u001b[0m \u001b[0mblock\u001b[0m\u001b[0;34m:\u001b[0m\u001b[0;34m\u001b[0m\u001b[0;34m\u001b[0m\u001b[0m\n\u001b[1;32m   1116\u001b[0m                 \u001b[0mself\u001b[0m\u001b[0;34m.\u001b[0m\u001b[0msettimeout\u001b[0m\u001b[0;34m(\u001b[0m\u001b[0;32mNone\u001b[0m\u001b[0;34m)\u001b[0m\u001b[0;34m\u001b[0m\u001b[0;34m\u001b[0m\u001b[0m\n\u001b[0;32m-> 1117\u001b[0;31m             \u001b[0mself\u001b[0m\u001b[0;34m.\u001b[0m\u001b[0m_sslobj\u001b[0m\u001b[0;34m.\u001b[0m\u001b[0mdo_handshake\u001b[0m\u001b[0;34m(\u001b[0m\u001b[0;34m)\u001b[0m\u001b[0;34m\u001b[0m\u001b[0;34m\u001b[0m\u001b[0m\n\u001b[0m\u001b[1;32m   1118\u001b[0m         \u001b[0;32mfinally\u001b[0m\u001b[0;34m:\u001b[0m\u001b[0;34m\u001b[0m\u001b[0;34m\u001b[0m\u001b[0m\n\u001b[1;32m   1119\u001b[0m             \u001b[0mself\u001b[0m\u001b[0;34m.\u001b[0m\u001b[0msettimeout\u001b[0m\u001b[0;34m(\u001b[0m\u001b[0mtimeout\u001b[0m\u001b[0;34m)\u001b[0m\u001b[0;34m\u001b[0m\u001b[0;34m\u001b[0m\u001b[0m\n",
      "\u001b[0;31mKeyboardInterrupt\u001b[0m: "
     ]
    }
   ],
   "source": [
    "for company in companies:\n",
    "    print('Processing ', comapny)\n",
    "    CSV = 'https://www.alphavantage.co/query?function=TIME_SERIES_DAILY_ADJUSTED'\\\n",
    "          '&outputsize=full'\\\n",
    "          '&datatype=csv'\\\n",
    "          '&apikey=OW4NZBLAQU5EBFEV'\\\n",
    "          '&symbol=%s.AX' % company\n",
    "    df = pd.read_csv(CSV, usecols=[0, 1, 2, 3, 4, 5, 6], parse_dates=['timestamp'])\n",
    "    df.rename(columns={'timestamp': 'date'}, inplace=True)\n",
    "    df.sort_values(by='date', inplace=True)\n",
    "    df.set_index('date', inplace=True)\n",
    "    df.drop(df[df.index.date <= last_date].index, inplace=True)\n",
    "    for idx, row in df.iterrows():\n",
    "        sl = StockLog(date=idx,\n",
    "                      code=company,\n",
    "                      opening=row['open'],\n",
    "                      high=row['high'],\n",
    "                      low=row['low'],\n",
    "                      closing=row['close'],\n",
    "                      adjusted=row['adjusted_close'],\n",
    "                      volume=row['volume'])\n",
    "        sl.save()"
   ]
  },
  {
   "cell_type": "code",
   "execution_count": 38,
   "metadata": {},
   "outputs": [
    {
     "data": {
      "text/html": [
       "<div>\n",
       "<style scoped>\n",
       "    .dataframe tbody tr th:only-of-type {\n",
       "        vertical-align: middle;\n",
       "    }\n",
       "\n",
       "    .dataframe tbody tr th {\n",
       "        vertical-align: top;\n",
       "    }\n",
       "\n",
       "    .dataframe thead th {\n",
       "        text-align: right;\n",
       "    }\n",
       "</style>\n",
       "<table border=\"1\" class=\"dataframe\">\n",
       "  <thead>\n",
       "    <tr style=\"text-align: right;\">\n",
       "      <th></th>\n",
       "      <th>opening</th>\n",
       "      <th>high</th>\n",
       "      <th>low</th>\n",
       "      <th>closing</th>\n",
       "      <th>adj_close</th>\n",
       "      <th>volume</th>\n",
       "    </tr>\n",
       "    <tr>\n",
       "      <th>date</th>\n",
       "      <th></th>\n",
       "      <th></th>\n",
       "      <th></th>\n",
       "      <th></th>\n",
       "      <th></th>\n",
       "      <th></th>\n",
       "    </tr>\n",
       "  </thead>\n",
       "  <tbody>\n",
       "    <tr>\n",
       "      <th>2019-06-25</th>\n",
       "      <td>4.15</td>\n",
       "      <td>4.220</td>\n",
       "      <td>4.150</td>\n",
       "      <td>4.150</td>\n",
       "      <td>4.150</td>\n",
       "      <td>1439731</td>\n",
       "    </tr>\n",
       "    <tr>\n",
       "      <th>2019-06-26</th>\n",
       "      <td>4.13</td>\n",
       "      <td>4.190</td>\n",
       "      <td>4.050</td>\n",
       "      <td>4.050</td>\n",
       "      <td>4.050</td>\n",
       "      <td>2724039</td>\n",
       "    </tr>\n",
       "    <tr>\n",
       "      <th>2019-06-27</th>\n",
       "      <td>4.05</td>\n",
       "      <td>4.090</td>\n",
       "      <td>4.020</td>\n",
       "      <td>4.050</td>\n",
       "      <td>4.050</td>\n",
       "      <td>2682087</td>\n",
       "    </tr>\n",
       "    <tr>\n",
       "      <th>2019-06-28</th>\n",
       "      <td>4.02</td>\n",
       "      <td>4.060</td>\n",
       "      <td>3.975</td>\n",
       "      <td>4.040</td>\n",
       "      <td>4.040</td>\n",
       "      <td>1826292</td>\n",
       "    </tr>\n",
       "    <tr>\n",
       "      <th>2019-07-01</th>\n",
       "      <td>4.05</td>\n",
       "      <td>4.180</td>\n",
       "      <td>4.050</td>\n",
       "      <td>4.160</td>\n",
       "      <td>4.160</td>\n",
       "      <td>1155500</td>\n",
       "    </tr>\n",
       "    <tr>\n",
       "      <th>2019-07-02</th>\n",
       "      <td>4.19</td>\n",
       "      <td>4.325</td>\n",
       "      <td>4.180</td>\n",
       "      <td>4.290</td>\n",
       "      <td>4.290</td>\n",
       "      <td>2014545</td>\n",
       "    </tr>\n",
       "    <tr>\n",
       "      <th>2019-07-03</th>\n",
       "      <td>4.27</td>\n",
       "      <td>4.300</td>\n",
       "      <td>4.250</td>\n",
       "      <td>4.260</td>\n",
       "      <td>4.260</td>\n",
       "      <td>1031653</td>\n",
       "    </tr>\n",
       "    <tr>\n",
       "      <th>2019-07-04</th>\n",
       "      <td>4.28</td>\n",
       "      <td>4.300</td>\n",
       "      <td>4.260</td>\n",
       "      <td>4.280</td>\n",
       "      <td>4.280</td>\n",
       "      <td>1485098</td>\n",
       "    </tr>\n",
       "    <tr>\n",
       "      <th>2019-07-05</th>\n",
       "      <td>4.30</td>\n",
       "      <td>4.360</td>\n",
       "      <td>4.265</td>\n",
       "      <td>4.340</td>\n",
       "      <td>4.340</td>\n",
       "      <td>1463229</td>\n",
       "    </tr>\n",
       "    <tr>\n",
       "      <th>2019-07-08</th>\n",
       "      <td>4.34</td>\n",
       "      <td>4.380</td>\n",
       "      <td>4.240</td>\n",
       "      <td>4.250</td>\n",
       "      <td>4.250</td>\n",
       "      <td>2114657</td>\n",
       "    </tr>\n",
       "    <tr>\n",
       "      <th>2019-07-09</th>\n",
       "      <td>4.21</td>\n",
       "      <td>4.250</td>\n",
       "      <td>4.130</td>\n",
       "      <td>4.160</td>\n",
       "      <td>4.160</td>\n",
       "      <td>1553083</td>\n",
       "    </tr>\n",
       "    <tr>\n",
       "      <th>2019-07-10</th>\n",
       "      <td>4.15</td>\n",
       "      <td>4.190</td>\n",
       "      <td>4.120</td>\n",
       "      <td>4.130</td>\n",
       "      <td>4.130</td>\n",
       "      <td>1225062</td>\n",
       "    </tr>\n",
       "    <tr>\n",
       "      <th>2019-07-11</th>\n",
       "      <td>4.12</td>\n",
       "      <td>4.180</td>\n",
       "      <td>4.080</td>\n",
       "      <td>4.160</td>\n",
       "      <td>4.160</td>\n",
       "      <td>1292664</td>\n",
       "    </tr>\n",
       "    <tr>\n",
       "      <th>2019-07-12</th>\n",
       "      <td>4.15</td>\n",
       "      <td>4.200</td>\n",
       "      <td>4.110</td>\n",
       "      <td>4.180</td>\n",
       "      <td>4.180</td>\n",
       "      <td>695596</td>\n",
       "    </tr>\n",
       "    <tr>\n",
       "      <th>2019-07-15</th>\n",
       "      <td>4.18</td>\n",
       "      <td>4.220</td>\n",
       "      <td>4.140</td>\n",
       "      <td>4.210</td>\n",
       "      <td>4.210</td>\n",
       "      <td>923926</td>\n",
       "    </tr>\n",
       "    <tr>\n",
       "      <th>2019-07-16</th>\n",
       "      <td>4.19</td>\n",
       "      <td>4.210</td>\n",
       "      <td>4.140</td>\n",
       "      <td>4.150</td>\n",
       "      <td>4.150</td>\n",
       "      <td>1188705</td>\n",
       "    </tr>\n",
       "    <tr>\n",
       "      <th>2019-07-17</th>\n",
       "      <td>4.13</td>\n",
       "      <td>4.210</td>\n",
       "      <td>4.130</td>\n",
       "      <td>4.190</td>\n",
       "      <td>4.190</td>\n",
       "      <td>741997</td>\n",
       "    </tr>\n",
       "    <tr>\n",
       "      <th>2019-07-18</th>\n",
       "      <td>4.18</td>\n",
       "      <td>4.215</td>\n",
       "      <td>4.150</td>\n",
       "      <td>4.170</td>\n",
       "      <td>4.170</td>\n",
       "      <td>809205</td>\n",
       "    </tr>\n",
       "    <tr>\n",
       "      <th>2019-07-19</th>\n",
       "      <td>4.18</td>\n",
       "      <td>4.350</td>\n",
       "      <td>4.180</td>\n",
       "      <td>4.350</td>\n",
       "      <td>4.350</td>\n",
       "      <td>2365140</td>\n",
       "    </tr>\n",
       "    <tr>\n",
       "      <th>2019-07-22</th>\n",
       "      <td>4.36</td>\n",
       "      <td>4.460</td>\n",
       "      <td>4.290</td>\n",
       "      <td>4.460</td>\n",
       "      <td>4.460</td>\n",
       "      <td>2331945</td>\n",
       "    </tr>\n",
       "    <tr>\n",
       "      <th>2019-07-23</th>\n",
       "      <td>4.44</td>\n",
       "      <td>4.480</td>\n",
       "      <td>4.255</td>\n",
       "      <td>4.290</td>\n",
       "      <td>4.290</td>\n",
       "      <td>2476425</td>\n",
       "    </tr>\n",
       "    <tr>\n",
       "      <th>2019-07-24</th>\n",
       "      <td>4.30</td>\n",
       "      <td>4.365</td>\n",
       "      <td>4.270</td>\n",
       "      <td>4.315</td>\n",
       "      <td>4.315</td>\n",
       "      <td>1493198</td>\n",
       "    </tr>\n",
       "  </tbody>\n",
       "</table>\n",
       "</div>"
      ],
      "text/plain": [
       "            opening   high    low  closing  adj_close   volume\n",
       "date                                                          \n",
       "2019-06-25     4.15  4.220  4.150    4.150      4.150  1439731\n",
       "2019-06-26     4.13  4.190  4.050    4.050      4.050  2724039\n",
       "2019-06-27     4.05  4.090  4.020    4.050      4.050  2682087\n",
       "2019-06-28     4.02  4.060  3.975    4.040      4.040  1826292\n",
       "2019-07-01     4.05  4.180  4.050    4.160      4.160  1155500\n",
       "2019-07-02     4.19  4.325  4.180    4.290      4.290  2014545\n",
       "2019-07-03     4.27  4.300  4.250    4.260      4.260  1031653\n",
       "2019-07-04     4.28  4.300  4.260    4.280      4.280  1485098\n",
       "2019-07-05     4.30  4.360  4.265    4.340      4.340  1463229\n",
       "2019-07-08     4.34  4.380  4.240    4.250      4.250  2114657\n",
       "2019-07-09     4.21  4.250  4.130    4.160      4.160  1553083\n",
       "2019-07-10     4.15  4.190  4.120    4.130      4.130  1225062\n",
       "2019-07-11     4.12  4.180  4.080    4.160      4.160  1292664\n",
       "2019-07-12     4.15  4.200  4.110    4.180      4.180   695596\n",
       "2019-07-15     4.18  4.220  4.140    4.210      4.210   923926\n",
       "2019-07-16     4.19  4.210  4.140    4.150      4.150  1188705\n",
       "2019-07-17     4.13  4.210  4.130    4.190      4.190   741997\n",
       "2019-07-18     4.18  4.215  4.150    4.170      4.170   809205\n",
       "2019-07-19     4.18  4.350  4.180    4.350      4.350  2365140\n",
       "2019-07-22     4.36  4.460  4.290    4.460      4.460  2331945\n",
       "2019-07-23     4.44  4.480  4.255    4.290      4.290  2476425\n",
       "2019-07-24     4.30  4.365  4.270    4.315      4.315  1493198"
      ]
     },
     "execution_count": 38,
     "metadata": {},
     "output_type": "execute_result"
    }
   ],
   "source": [
    "    date = Column('date', Date, primary_key=True)\n",
    "    code = Column('code', String(3), ForeignKey(\"companies.code\"), primary_key=True)\n",
    "    opening = Column('opening', Numeric)\n",
    "    high = Column('high', Numeric)\n",
    "    low = Column('low', Numeric)\n",
    "    closing = Column('closing', Numeric)\n",
    "    adjusted = Column('adjusted', Numeric)\n",
    "    volume = Column('volume', Integer)"
   ]
  },
  {
   "cell_type": "code",
   "execution_count": null,
   "metadata": {},
   "outputs": [],
   "source": []
  }
 ],
 "metadata": {
  "kernelspec": {
   "display_name": "Python 3",
   "language": "python",
   "name": "python3"
  },
  "language_info": {
   "codemirror_mode": {
    "name": "ipython",
    "version": 3
   },
   "file_extension": ".py",
   "mimetype": "text/x-python",
   "name": "python",
   "nbconvert_exporter": "python",
   "pygments_lexer": "ipython3",
   "version": "3.7.3"
  }
 },
 "nbformat": 4,
 "nbformat_minor": 4
}
