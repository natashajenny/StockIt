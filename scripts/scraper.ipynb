{
 "cells": [
  {
   "cell_type": "code",
   "execution_count": 1,
   "metadata": {},
   "outputs": [],
   "source": [
    "import copy\n",
    "import time\n",
    "import warnings\n",
    "import pandas as pd\n",
    "import numpy as np\n",
    "import seaborn as sns\n",
    "import matplotlib.pyplot as plt\n",
    "from model import Company, StockLog, IndexLog\n",
    "%matplotlib inline"
   ]
  },
  {
   "cell_type": "markdown",
   "metadata": {},
   "source": [
    "# Read Stock Data"
   ]
  },
  {
   "cell_type": "code",
   "execution_count": 3,
   "metadata": {},
   "outputs": [],
   "source": [
    "stock = 'ABC.AX'\n",
    "start = '2009-07-01'\n",
    "finish = '2019-06-30'"
   ]
  },
  {
   "cell_type": "code",
   "execution_count": null,
   "metadata": {},
   "outputs": [],
   "source": [
    "CSV = 'https://www.alphavantage.co/query?function=TIME_SERIES_DAILY_ADJUSTED'\\\n",
    "      '&outputsize=full'\\\n",
    "      '&datatype=csv'\\\n",
    "      '&apikey=OW4NZBLAQU5EBFEV'\\\n",
    "      '&symbol=%s' % stock\n",
    "df = pd.read_csv(CSV, usecols=[0, 1, 2, 3, 4, 5, 6], parse_dates=['timestamp'])\n",
    "df.rename(columns={'timestamp': 'date', 'adjusted_close': 'adj_close'}, inplace=True)\n",
    "df.sort_values(by='date', inplace=True)\n",
    "df.set_index('date', inplace=True)\n",
    "df.drop(df[df.index < start].index, inplace=True)\n",
    "df.drop(df[df.index > finish].index, inplace=True)"
   ]
  },
  {
   "cell_type": "markdown",
   "metadata": {},
   "source": [
    "# Technical Indicators"
   ]
  },
  {
   "cell_type": "markdown",
   "metadata": {},
   "source": [
    "### 01: SMA 15, 50, 200 "
   ]
  },
  {
   "cell_type": "code",
   "execution_count": null,
   "metadata": {},
   "outputs": [],
   "source": [
    "for period in [15, 50, 200]:\n",
    "    CSV = 'https://www.alphavantage.co/query?function=SMA'\\\n",
    "          '&interval=daily'\\\n",
    "          '&time_period=%d'\\\n",
    "          '&series_type=close'\\\n",
    "          '&datatype=csv'\\\n",
    "          '&apikey=OW4NZBLAQU5EBFEV'\\\n",
    "          '&symbol=%s' % (period, stock)\n",
    "    new = pd.read_csv(CSV, parse_dates=['time'])\n",
    "    new.rename(columns={'time': 'date', 'SMA': 'sma%d' % period}, inplace=True)\n",
    "    new.sort_values(by='date', inplace=True)\n",
    "    new.set_index('date', inplace=True)\n",
    "    new.drop(new[new.index < start].index, inplace=True)\n",
    "    new.drop(new[new.index > finish].index, inplace=True)\n",
    "    df = df.merge(new, how='outer', left_index=True, right_index=True)\n",
    "    time.sleep(10)"
   ]
  },
  {
   "cell_type": "markdown",
   "metadata": {},
   "source": [
    "### 02: EMA 15, 50, 200"
   ]
  },
  {
   "cell_type": "code",
   "execution_count": null,
   "metadata": {},
   "outputs": [],
   "source": [
    "for period in [15, 50, 200]:\n",
    "    CSV = 'https://www.alphavantage.co/query?function=EMA'\\\n",
    "          '&interval=daily'\\\n",
    "          '&time_period=%d'\\\n",
    "          '&series_type=close'\\\n",
    "          '&datatype=csv'\\\n",
    "          '&apikey=OW4NZBLAQU5EBFEV'\\\n",
    "          '&symbol=%s' % (period, stock)\n",
    "    new = pd.read_csv(CSV, parse_dates=['time'])\n",
    "    new.rename(columns={'time': 'date', 'EMA': 'ema%d' % period}, inplace=True)\n",
    "    new.sort_values(by='date', inplace=True)\n",
    "    new.set_index('date', inplace=True)\n",
    "    new.drop(new[new.index < start].index, inplace=True)\n",
    "    new.drop(new[new.index > finish].index, inplace=True)\n",
    "    df = df.merge(new, how='outer', left_index=True, right_index=True)\n",
    "    time.sleep(10)    "
   ]
  },
  {
   "cell_type": "markdown",
   "metadata": {},
   "source": [
    "### 03: MACD"
   ]
  },
  {
   "cell_type": "code",
   "execution_count": null,
   "metadata": {},
   "outputs": [],
   "source": [
    "CSV = 'https://www.alphavantage.co/query?function=MACD'\\\n",
    "      '&interval=daily'\\\n",
    "      '&series_type=close'\\\n",
    "      '&datatype=csv'\\\n",
    "      '&apikey=OW4NZBLAQU5EBFEV'\\\n",
    "      '&symbol=%s' % stock\n",
    "new = pd.read_csv(CSV, parse_dates=['time'])\n",
    "new.rename(columns={'time': 'date', 'MACD': 'macd', 'MACD_Hist': 'macd_hst', 'MACD_Signal': 'macd_sig'}, inplace=True)\n",
    "new.sort_values(by='date', inplace=True)\n",
    "new.set_index('date', inplace=True)\n",
    "new.drop(new[new.index < start].index, inplace=True)\n",
    "new.drop(new[new.index > finish].index, inplace=True)\n",
    "df = df.merge(new, how='outer', left_index=True, right_index=True)"
   ]
  },
  {
   "cell_type": "markdown",
   "metadata": {},
   "source": [
    "### 04: Bollinger Bands"
   ]
  },
  {
   "cell_type": "code",
   "execution_count": null,
   "metadata": {},
   "outputs": [],
   "source": [
    "CSV = 'https://www.alphavantage.co/query?function=BBANDS'\\\n",
    "      '&interval=daily'\\\n",
    "      '&time_period=20'\\\n",
    "      '&series_type=close'\\\n",
    "      '&datatype=csv'\\\n",
    "      '&apikey=OW4NZBLAQU5EBFEV'\\\n",
    "      '&symbol=%s' % stock\n",
    "new = pd.read_csv(CSV, parse_dates=['time'])\n",
    "new.rename(columns={'time': 'date', 'Real Lower Band': 'bb_low', 'Real Middle Band': 'bb_mid', 'Real Upper Band': 'bb_hi'}, inplace=True)\n",
    "new.sort_values(by='date', inplace=True)\n",
    "new.set_index('date', inplace=True)\n",
    "new.drop(new[new.index < start].index, inplace=True)\n",
    "new.drop(new[new.index > finish].index, inplace=True)\n",
    "df = df.merge(new, how='outer', left_index=True, right_index=True)"
   ]
  },
  {
   "cell_type": "markdown",
   "metadata": {},
   "source": [
    "### 05: Stochastic Oscillator"
   ]
  },
  {
   "cell_type": "code",
   "execution_count": null,
   "metadata": {},
   "outputs": [],
   "source": [
    "CSV = 'https://www.alphavantage.co/query?function=STOCH'\\\n",
    "      '&interval=daily'\\\n",
    "      '&time_period=14'\\\n",
    "      '&series_type=close'\\\n",
    "      '&datatype=csv'\\\n",
    "      '&apikey=OW4NZBLAQU5EBFEV'\\\n",
    "      '&symbol=%s' % stock\n",
    "new = pd.read_csv(CSV, parse_dates=['time'])\n",
    "new.rename(columns={'time': 'date', 'SlowD': 'slow_d', 'SlowK': 'slow_k'}, inplace=True)\n",
    "new.sort_values(by='date', inplace=True)\n",
    "new.set_index('date', inplace=True)\n",
    "new.drop(new[new.index < start].index, inplace=True)\n",
    "new.drop(new[new.index > finish].index, inplace=True)\n",
    "df = df.merge(new, how='outer', left_index=True, right_index=True)"
   ]
  },
  {
   "cell_type": "markdown",
   "metadata": {},
   "source": [
    "### 06: Relative Strength Index"
   ]
  },
  {
   "cell_type": "code",
   "execution_count": null,
   "metadata": {},
   "outputs": [],
   "source": [
    "CSV = 'https://www.alphavantage.co/query?function=RSI'\\\n",
    "      '&interval=daily'\\\n",
    "      '&time_period=14'\\\n",
    "      '&series_type=close'\\\n",
    "      '&datatype=csv'\\\n",
    "      '&apikey=OW4NZBLAQU5EBFEV'\\\n",
    "      '&symbol=%s' % stock\n",
    "new = pd.read_csv(CSV, parse_dates=['time'])\n",
    "new.rename(columns={'time': 'date', 'RSI': 'rsi'}, inplace=True)\n",
    "new.sort_values(by='date', inplace=True)\n",
    "new.set_index('date', inplace=True)\n",
    "new.drop(new[new.index < start].index, inplace=True)\n",
    "new.drop(new[new.index > finish].index, inplace=True)\n",
    "df = df.merge(new, how='outer', left_index=True, right_index=True)"
   ]
  },
  {
   "cell_type": "markdown",
   "metadata": {},
   "source": [
    "### 07: Average Directional Movement Index"
   ]
  },
  {
   "cell_type": "code",
   "execution_count": null,
   "metadata": {},
   "outputs": [],
   "source": [
    "CSV = 'https://www.alphavantage.co/query?function=ADX'\\\n",
    "      '&interval=daily'\\\n",
    "      '&time_period=14'\\\n",
    "      '&series_type=close'\\\n",
    "      '&datatype=csv'\\\n",
    "      '&apikey=OW4NZBLAQU5EBFEV'\\\n",
    "      '&symbol=%s' % stock\n",
    "new = pd.read_csv(CSV, parse_dates=['time'])\n",
    "new.rename(columns={'time': 'date', 'ADX': 'adx'}, inplace=True)\n",
    "new.sort_values(by='date', inplace=True)\n",
    "new.set_index('date', inplace=True)\n",
    "new.drop(new[new.index < start].index, inplace=True)\n",
    "new.drop(new[new.index > finish].index, inplace=True)\n",
    "df = df.merge(new, how='outer', left_index=True, right_index=True)"
   ]
  },
  {
   "cell_type": "markdown",
   "metadata": {},
   "source": [
    "### 08: Commodity Channel Index"
   ]
  },
  {
   "cell_type": "code",
   "execution_count": null,
   "metadata": {},
   "outputs": [],
   "source": [
    "CSV = 'https://www.alphavantage.co/query?function=CCI'\\\n",
    "      '&interval=daily'\\\n",
    "      '&time_period=20'\\\n",
    "      '&series_type=close'\\\n",
    "      '&datatype=csv'\\\n",
    "      '&apikey=OW4NZBLAQU5EBFEV'\\\n",
    "      '&symbol=%s' % stock\n",
    "new = pd.read_csv(CSV, parse_dates=['time'])\n",
    "new.rename(columns={'time': 'date', 'CCI': 'cci'}, inplace=True)\n",
    "new.sort_values(by='date', inplace=True)\n",
    "new.set_index('date', inplace=True)\n",
    "new.drop(new[new.index < start].index, inplace=True)\n",
    "new.drop(new[new.index > finish].index, inplace=True)\n",
    "df = df.merge(new, how='outer', left_index=True, right_index=True)"
   ]
  },
  {
   "cell_type": "markdown",
   "metadata": {},
   "source": [
    "### 09: Aroon Oscillator"
   ]
  },
  {
   "cell_type": "code",
   "execution_count": null,
   "metadata": {},
   "outputs": [],
   "source": [
    "CSV = 'https://www.alphavantage.co/query?function=AROON'\\\n",
    "      '&interval=daily'\\\n",
    "      '&time_period=25'\\\n",
    "      '&series_type=close'\\\n",
    "      '&datatype=csv'\\\n",
    "      '&apikey=OW4NZBLAQU5EBFEV'\\\n",
    "      '&symbol=%s' % stock\n",
    "new = pd.read_csv(CSV, parse_dates=['time'])\n",
    "new.rename(columns={'time': 'date', 'Aroon Down': 'aroon_dn', 'Aroon Up': 'aroon_up'}, inplace=True)\n",
    "new.sort_values(by='date', inplace=True)\n",
    "new.set_index('date', inplace=True)\n",
    "new.drop(new[new.index < start].index, inplace=True)\n",
    "new.drop(new[new.index > finish].index, inplace=True)\n",
    "df = df.merge(new, how='outer', left_index=True, right_index=True)"
   ]
  },
  {
   "cell_type": "markdown",
   "metadata": {},
   "source": [
    "### 10: Chaikin A/D"
   ]
  },
  {
   "cell_type": "code",
   "execution_count": null,
   "metadata": {},
   "outputs": [],
   "source": [
    "CSV = 'https://www.alphavantage.co/query?function=AD'\\\n",
    "      '&interval=daily'\\\n",
    "      '&datatype=csv'\\\n",
    "      '&apikey=OW4NZBLAQU5EBFEV'\\\n",
    "      '&symbol=%s' % stock\n",
    "new = pd.read_csv(CSV, parse_dates=['time'])\n",
    "new.rename(columns={'time': 'date', 'Chaikin A/D': 'chaikin'}, inplace=True)\n",
    "new.sort_values(by='date', inplace=True)\n",
    "new.set_index('date', inplace=True)\n",
    "new.drop(new[new.index < start].index, inplace=True)\n",
    "new.drop(new[new.index > finish].index, inplace=True)\n",
    "df = df.merge(new, how='outer', left_index=True, right_index=True)"
   ]
  },
  {
   "cell_type": "markdown",
   "metadata": {},
   "source": [
    "### 11: On-Balance Volume"
   ]
  },
  {
   "cell_type": "code",
   "execution_count": null,
   "metadata": {},
   "outputs": [],
   "source": [
    "CSV = 'https://www.alphavantage.co/query?function=OBV'\\\n",
    "      '&interval=daily'\\\n",
    "      '&datatype=csv'\\\n",
    "      '&apikey=OW4NZBLAQU5EBFEV'\\\n",
    "      '&symbol=%s' % stock\n",
    "new = pd.read_csv(CSV, parse_dates=['time'])\n",
    "new.rename(columns={'time': 'date', 'OBV': 'obv'}, inplace=True)\n",
    "new.sort_values(by='date', inplace=True)\n",
    "new.set_index('date', inplace=True)\n",
    "new.drop(new[new.index < start].index, inplace=True)\n",
    "new.drop(new[new.index > finish].index, inplace=True)\n",
    "df = df.merge(new, how='outer', left_index=True, right_index=True)"
   ]
  },
  {
   "cell_type": "markdown",
   "metadata": {},
   "source": [
    "### 12: Momentum"
   ]
  },
  {
   "cell_type": "code",
   "execution_count": null,
   "metadata": {},
   "outputs": [],
   "source": [
    "CSV = 'https://www.alphavantage.co/query?function=MOM'\\\n",
    "      '&interval=daily'\\\n",
    "      '&time_period=10'\\\n",
    "      '&series_type=close'\\\n",
    "      '&datatype=csv'\\\n",
    "      '&apikey=OW4NZBLAQU5EBFEV'\\\n",
    "      '&symbol=%s' % stock\n",
    "new = pd.read_csv(CSV, parse_dates=['time'])\n",
    "new.rename(columns={'time': 'date', 'MOM': 'momentum'}, inplace=True)\n",
    "new.sort_values(by='date', inplace=True)\n",
    "new.set_index('date', inplace=True)\n",
    "new.drop(new[new.index < start].index, inplace=True)\n",
    "new.drop(new[new.index > finish].index, inplace=True)\n",
    "df = df.merge(new, how='outer', left_index=True, right_index=True)"
   ]
  },
  {
   "cell_type": "code",
   "execution_count": null,
   "metadata": {},
   "outputs": [],
   "source": [
    "save1 = copy.deepcopy(df)"
   ]
  },
  {
   "cell_type": "markdown",
   "metadata": {},
   "source": [
    "# Fundamental Indicies"
   ]
  },
  {
   "cell_type": "markdown",
   "metadata": {},
   "source": [
    "### 13: MSCI ACWI _(via iShares MSCI ACWI ETF)_"
   ]
  },
  {
   "cell_type": "code",
   "execution_count": 35,
   "metadata": {},
   "outputs": [],
   "source": [
    "CSV = 'https://www.alphavantage.co/query?function=TIME_SERIES_DAILY_ADJUSTED'\\\n",
    "      '&outputsize=full'\\\n",
    "      '&datatype=csv'\\\n",
    "      '&apikey=OW4NZBLAQU5EBFEV'\\\n",
    "      '&symbol=ACWI'\n",
    "df = pd.read_csv(CSV, usecols=[0, 5], parse_dates=['timestamp'])\n",
    "df.rename(columns={'timestamp': 'date', 'adjusted_close': 'world'}, inplace=True)\n",
    "df.sort_values(by='date', inplace=True)\n",
    "df.set_index('date', inplace=True)\n",
    "df.drop(df[df.index < start].index, inplace=True)\n",
    "df.drop(df[df.index > finish].index, inplace=True)"
   ]
  },
  {
   "cell_type": "markdown",
   "metadata": {},
   "source": [
    "### 14: MSCI Pacific _(via iShares MSCI Pacific ex Japan ETF)_ "
   ]
  },
  {
   "cell_type": "code",
   "execution_count": 36,
   "metadata": {},
   "outputs": [],
   "source": [
    "CSV = 'https://www.alphavantage.co/query?function=TIME_SERIES_DAILY_ADJUSTED'\\\n",
    "      '&outputsize=full'\\\n",
    "      '&datatype=csv'\\\n",
    "      '&apikey=OW4NZBLAQU5EBFEV'\\\n",
    "      '&symbol=EPP'\n",
    "new = pd.read_csv(CSV, usecols=[0, 5], parse_dates=['timestamp'])\n",
    "new.rename(columns={'timestamp': 'date', 'adjusted_close': 'pacific'}, inplace=True)\n",
    "new.sort_values(by='date', inplace=True)\n",
    "new.set_index('date', inplace=True)\n",
    "new.drop(new[new.index < start].index, inplace=True)\n",
    "new.drop(new[new.index > finish].index, inplace=True)\n",
    "df = df.merge(new, how='outer', left_index=True, right_index=True)"
   ]
  },
  {
   "cell_type": "markdown",
   "metadata": {},
   "source": [
    "### 15: ASX 200"
   ]
  },
  {
   "cell_type": "code",
   "execution_count": 37,
   "metadata": {},
   "outputs": [],
   "source": [
    "CSV = 'https://www.alphavantage.co/query?function=TIME_SERIES_DAILY_ADJUSTED'\\\n",
    "      '&outputsize=full'\\\n",
    "      '&datatype=csv'\\\n",
    "      '&apikey=OW4NZBLAQU5EBFEV'\\\n",
    "      '&symbol=^AXJO'\n",
    "new = pd.read_csv(CSV, usecols=[0, 5], parse_dates=['timestamp'])\n",
    "new.rename(columns={'timestamp': 'date', 'adjusted_close': 'asx200'}, inplace=True)\n",
    "new.sort_values(by='date', inplace=True)\n",
    "new.set_index('date', inplace=True)\n",
    "new.drop(new[new.index < start].index, inplace=True)\n",
    "new.drop(new[new.index > finish].index, inplace=True)\n",
    "df = df.merge(new, how='outer', left_index=True, right_index=True)"
   ]
  },
  {
   "cell_type": "markdown",
   "metadata": {},
   "source": [
    "### 16: ASX Volatility Index"
   ]
  },
  {
   "cell_type": "code",
   "execution_count": 38,
   "metadata": {},
   "outputs": [],
   "source": [
    "CSV = 'axvi.csv'\n",
    "new = pd.read_csv(CSV, usecols=[0, 1], parse_dates=['Date'])\n",
    "new.rename(columns={'Date': 'date', 'Price': 'axvi'}, inplace=True)\n",
    "new.sort_values(by='date', inplace=True)\n",
    "new.set_index('date', inplace=True)\n",
    "new.drop(new[new.index < start].index, inplace=True)\n",
    "new.drop(new[new.index > finish].index, inplace=True)\n",
    "df = df.merge(new, how='outer', left_index=True, right_index=True)"
   ]
  },
  {
   "cell_type": "markdown",
   "metadata": {},
   "source": [
    "### 17: ASX Sectors"
   ]
  },
  {
   "cell_type": "code",
   "execution_count": 39,
   "metadata": {},
   "outputs": [],
   "source": [
    "sectors = {'XDJ': 'discretionary',\n",
    "           'XSJ': 'staples',\n",
    "           'XEJ': 'energy',\n",
    "           'XXJ': 'financials',\n",
    "           'XHJ': 'healthcare',\n",
    "           'XNJ': 'industrials',\n",
    "           'XIJ': 'infotech',\n",
    "           'XMJ': 'materials',\n",
    "           'XTJ': 'telecom',\n",
    "           'XUJ': 'utilities',\n",
    "           'XRJ': 'realestate'}\n",
    "\n",
    "for sector in sectors.keys():\n",
    "    CSV = sector.lower() + '.csv'\n",
    "    new = pd.read_csv(CSV, usecols=[0, 1], parse_dates=['Date'])\n",
    "    new.rename(columns={'Date': 'date', 'Price': sectors[sector]}, inplace=True)\n",
    "    new.sort_values(by='date', inplace=True)\n",
    "    new.set_index('date', inplace=True)\n",
    "    new[sectors[sector]] = pd.to_numeric(new[sectors[sector]].str.replace(',', ''))\n",
    "    new.drop(new[new.index < start].index, inplace=True)\n",
    "    new.drop(new[new.index > finish].index, inplace=True)\n",
    "    df = df.merge(new, how='outer', left_index=True, right_index=True)"
   ]
  },
  {
   "cell_type": "markdown",
   "metadata": {},
   "source": [
    "### 18: AUD/USD"
   ]
  },
  {
   "cell_type": "code",
   "execution_count": 40,
   "metadata": {},
   "outputs": [],
   "source": [
    "CSV = 'https://www.alphavantage.co/query?function=FX_DAILY'\\\n",
    "      '&from_symbol=AUD'\\\n",
    "      '&to_symbol=USD'\\\n",
    "      '&outputsize=full'\\\n",
    "      '&datatype=csv'\\\n",
    "      '&apikey=OW4NZBLAQU5EBFEV'\n",
    "new = pd.read_csv(CSV, usecols=[0, 4], parse_dates=['timestamp'])\n",
    "new.rename(columns={'timestamp': 'date', 'close': 'aud_usd'}, inplace=True)\n",
    "new.sort_values(by='date', inplace=True)\n",
    "new.set_index('date', inplace=True)\n",
    "new.drop(new[new.index < start].index, inplace=True)\n",
    "new.drop(new[new.index > finish].index, inplace=True)\n",
    "df = df.merge(new, how='outer', left_index=True, right_index=True)"
   ]
  },
  {
   "cell_type": "markdown",
   "metadata": {},
   "source": [
    "### 19: AUD Trade-weighted Index"
   ]
  },
  {
   "cell_type": "code",
   "execution_count": 41,
   "metadata": {},
   "outputs": [],
   "source": [
    "CSV = 'https://www.quandl.com/api/v3/datasets/RBA/FXRTWI.csv?api_key=-hHfVg2mQgsE_ViWacbY'\n",
    "new = pd.read_csv(CSV, parse_dates=['Date'])\n",
    "new.rename(columns={'Date': 'date', 'Value': 'twi'}, inplace=True)\n",
    "new.sort_values(by='date', inplace=True)\n",
    "new.set_index('date', inplace=True)\n",
    "new.drop(new[new.index < start].index, inplace=True)\n",
    "new.drop(new[new.index > finish].index, inplace=True)\n",
    "df = df.merge(new, how='outer', left_index=True, right_index=True)"
   ]
  },
  {
   "cell_type": "markdown",
   "metadata": {},
   "source": [
    "### 20: CBA Prime Rate"
   ]
  },
  {
   "cell_type": "code",
   "execution_count": 42,
   "metadata": {},
   "outputs": [],
   "source": [
    "CSV = 'prime.csv'\n",
    "new = pd.read_csv(CSV, parse_dates=['Month'])\n",
    "new.rename(columns={'Month': 'date', 'Rate': 'prime'}, inplace=True)\n",
    "new.sort_values(by='date', inplace=True)\n",
    "new.set_index('date', inplace=True)\n",
    "new.drop(new[new.index < start].index, inplace=True)\n",
    "new.drop(new[new.index > finish].index, inplace=True)\n",
    "df =df.merge(new, how='outer', left_index=True, right_index=True)"
   ]
  },
  {
   "cell_type": "code",
   "execution_count": 63,
   "metadata": {},
   "outputs": [
    {
     "data": {
      "text/html": [
       "<div>\n",
       "<style scoped>\n",
       "    .dataframe tbody tr th:only-of-type {\n",
       "        vertical-align: middle;\n",
       "    }\n",
       "\n",
       "    .dataframe tbody tr th {\n",
       "        vertical-align: top;\n",
       "    }\n",
       "\n",
       "    .dataframe thead th {\n",
       "        text-align: right;\n",
       "    }\n",
       "</style>\n",
       "<table border=\"1\" class=\"dataframe\">\n",
       "  <thead>\n",
       "    <tr style=\"text-align: right;\">\n",
       "      <th></th>\n",
       "      <th>world</th>\n",
       "      <th>pacific</th>\n",
       "      <th>asx200</th>\n",
       "      <th>axvi</th>\n",
       "      <th>discretionary</th>\n",
       "      <th>staples</th>\n",
       "      <th>energy</th>\n",
       "      <th>financials</th>\n",
       "      <th>healthcare</th>\n",
       "      <th>industrials</th>\n",
       "      <th>infotech</th>\n",
       "      <th>materials</th>\n",
       "      <th>telecom</th>\n",
       "      <th>utilities</th>\n",
       "      <th>realestate</th>\n",
       "      <th>aud_usd</th>\n",
       "      <th>twi</th>\n",
       "      <th>prime</th>\n",
       "    </tr>\n",
       "    <tr>\n",
       "      <th>date</th>\n",
       "      <th></th>\n",
       "      <th></th>\n",
       "      <th></th>\n",
       "      <th></th>\n",
       "      <th></th>\n",
       "      <th></th>\n",
       "      <th></th>\n",
       "      <th></th>\n",
       "      <th></th>\n",
       "      <th></th>\n",
       "      <th></th>\n",
       "      <th></th>\n",
       "      <th></th>\n",
       "      <th></th>\n",
       "      <th></th>\n",
       "      <th></th>\n",
       "      <th></th>\n",
       "      <th></th>\n",
       "    </tr>\n",
       "  </thead>\n",
       "  <tbody>\n",
       "    <tr>\n",
       "      <th>2009-07-01</th>\n",
       "      <td>28.1991</td>\n",
       "      <td>20.9295</td>\n",
       "      <td>3874.0000</td>\n",
       "      <td>25.145</td>\n",
       "      <td>1285.0</td>\n",
       "      <td>6568.2</td>\n",
       "      <td>14488.6</td>\n",
       "      <td>4195.6</td>\n",
       "      <td>8029.0</td>\n",
       "      <td>2934.0</td>\n",
       "      <td>518.4</td>\n",
       "      <td>9916.8</td>\n",
       "      <td>1159.6</td>\n",
       "      <td>3901.0</td>\n",
       "      <td>1684.7</td>\n",
       "      <td>0.8092</td>\n",
       "      <td>64.3</td>\n",
       "      <td>6.52</td>\n",
       "    </tr>\n",
       "    <tr>\n",
       "      <th>2009-07-02</th>\n",
       "      <td>27.3440</td>\n",
       "      <td>20.1670</td>\n",
       "      <td>3877.3000</td>\n",
       "      <td>24.350</td>\n",
       "      <td>1283.3</td>\n",
       "      <td>6564.9</td>\n",
       "      <td>14259.5</td>\n",
       "      <td>4181.1</td>\n",
       "      <td>8028.9</td>\n",
       "      <td>2908.4</td>\n",
       "      <td>515.1</td>\n",
       "      <td>10003.4</td>\n",
       "      <td>1162.3</td>\n",
       "      <td>3897.0</td>\n",
       "      <td>1729.2</td>\n",
       "      <td>0.7905</td>\n",
       "      <td>64.2</td>\n",
       "      <td>NaN</td>\n",
       "    </tr>\n",
       "    <tr>\n",
       "      <th>2009-07-03</th>\n",
       "      <td>NaN</td>\n",
       "      <td>NaN</td>\n",
       "      <td>3828.2000</td>\n",
       "      <td>25.518</td>\n",
       "      <td>1264.9</td>\n",
       "      <td>6599.6</td>\n",
       "      <td>14134.1</td>\n",
       "      <td>4144.7</td>\n",
       "      <td>7924.1</td>\n",
       "      <td>2867.3</td>\n",
       "      <td>510.9</td>\n",
       "      <td>9730.6</td>\n",
       "      <td>1150.9</td>\n",
       "      <td>3897.3</td>\n",
       "      <td>1715.0</td>\n",
       "      <td>0.7990</td>\n",
       "      <td>63.8</td>\n",
       "      <td>NaN</td>\n",
       "    </tr>\n",
       "    <tr>\n",
       "      <th>2009-07-06</th>\n",
       "      <td>27.3198</td>\n",
       "      <td>20.0684</td>\n",
       "      <td>3783.7000</td>\n",
       "      <td>25.511</td>\n",
       "      <td>1250.9</td>\n",
       "      <td>6618.5</td>\n",
       "      <td>13825.1</td>\n",
       "      <td>4113.9</td>\n",
       "      <td>7764.3</td>\n",
       "      <td>2857.2</td>\n",
       "      <td>505.1</td>\n",
       "      <td>9510.8</td>\n",
       "      <td>1138.6</td>\n",
       "      <td>3841.9</td>\n",
       "      <td>1715.7</td>\n",
       "      <td>0.7957</td>\n",
       "      <td>63.6</td>\n",
       "      <td>NaN</td>\n",
       "    </tr>\n",
       "    <tr>\n",
       "      <th>2009-07-07</th>\n",
       "      <td>26.7714</td>\n",
       "      <td>19.5820</td>\n",
       "      <td>3766.8999</td>\n",
       "      <td>25.685</td>\n",
       "      <td>1240.0</td>\n",
       "      <td>6628.2</td>\n",
       "      <td>13681.2</td>\n",
       "      <td>4106.5</td>\n",
       "      <td>7777.3</td>\n",
       "      <td>2852.7</td>\n",
       "      <td>507.7</td>\n",
       "      <td>9414.9</td>\n",
       "      <td>1149.0</td>\n",
       "      <td>3947.0</td>\n",
       "      <td>1683.6</td>\n",
       "      <td>0.7894</td>\n",
       "      <td>63.8</td>\n",
       "      <td>NaN</td>\n",
       "    </tr>\n",
       "  </tbody>\n",
       "</table>\n",
       "</div>"
      ],
      "text/plain": [
       "              world  pacific     asx200    axvi  discretionary  staples  \\\n",
       "date                                                                      \n",
       "2009-07-01  28.1991  20.9295  3874.0000  25.145         1285.0   6568.2   \n",
       "2009-07-02  27.3440  20.1670  3877.3000  24.350         1283.3   6564.9   \n",
       "2009-07-03      NaN      NaN  3828.2000  25.518         1264.9   6599.6   \n",
       "2009-07-06  27.3198  20.0684  3783.7000  25.511         1250.9   6618.5   \n",
       "2009-07-07  26.7714  19.5820  3766.8999  25.685         1240.0   6628.2   \n",
       "\n",
       "             energy  financials  healthcare  industrials  infotech  materials  \\\n",
       "date                                                                            \n",
       "2009-07-01  14488.6      4195.6      8029.0       2934.0     518.4     9916.8   \n",
       "2009-07-02  14259.5      4181.1      8028.9       2908.4     515.1    10003.4   \n",
       "2009-07-03  14134.1      4144.7      7924.1       2867.3     510.9     9730.6   \n",
       "2009-07-06  13825.1      4113.9      7764.3       2857.2     505.1     9510.8   \n",
       "2009-07-07  13681.2      4106.5      7777.3       2852.7     507.7     9414.9   \n",
       "\n",
       "            telecom  utilities  realestate  aud_usd   twi  prime  \n",
       "date                                                              \n",
       "2009-07-01   1159.6     3901.0      1684.7   0.8092  64.3   6.52  \n",
       "2009-07-02   1162.3     3897.0      1729.2   0.7905  64.2    NaN  \n",
       "2009-07-03   1150.9     3897.3      1715.0   0.7990  63.8    NaN  \n",
       "2009-07-06   1138.6     3841.9      1715.7   0.7957  63.6    NaN  \n",
       "2009-07-07   1149.0     3947.0      1683.6   0.7894  63.8    NaN  "
      ]
     },
     "execution_count": 63,
     "metadata": {},
     "output_type": "execute_result"
    }
   ],
   "source": [
    "df.head()"
   ]
  },
  {
   "cell_type": "code",
   "execution_count": null,
   "metadata": {},
   "outputs": [],
   "source": [
    "for idx, row in df.iterrows():\n",
    "    for col in df.columns:\n",
    "        if not np.isnan(row[col]):\n",
    "            index_log = IndexLog(date=idx, index=col, value=row[col])\n",
    "            index_log.save()"
   ]
  },
  {
   "cell_type": "markdown",
   "metadata": {},
   "source": [
    "# Update Stocks"
   ]
  },
  {
   "cell_type": "code",
   "execution_count": 42,
   "metadata": {},
   "outputs": [],
   "source": [
    "import pandas as pd\n",
    "import numpy as np\n",
    "import matplotlib.pyplot as plt\n",
    "from model import Company, StockLog, IndexLog\n",
    "from model import start_engine\n",
    "from datetime import date, datetime"
   ]
  },
  {
   "cell_type": "code",
   "execution_count": 43,
   "metadata": {},
   "outputs": [],
   "source": [
    "engine = start_engine()"
   ]
  },
  {
   "cell_type": "code",
   "execution_count": 48,
   "metadata": {},
   "outputs": [],
   "source": [
    "stock_log = StockLog().query()\n",
    "df = pd.read_sql(stock_log.statement, engine)\n",
    "last_date = max(df['date'])"
   ]
  },
  {
   "cell_type": "code",
   "execution_count": 45,
   "metadata": {},
   "outputs": [],
   "source": [
    "companies = Company().query()\n",
    "df = pd.read_sql(companies.statement, engine)\n",
    "companies = set(df['code'])"
   ]
  },
  {
   "cell_type": "code",
   "execution_count": null,
   "metadata": {},
   "outputs": [],
   "source": [
    "for company in companies:\n",
    "    print('Processing ', company)\n",
    "    CSV = 'https://www.alphavantage.co/query?function=TIME_SERIES_DAILY_ADJUSTED'\\\n",
    "          '&outputsize=full'\\\n",
    "          '&datatype=csv'\\\n",
    "          '&apikey=OW4NZBLAQU5EBFEV'\\\n",
    "          '&symbol=%s.AX' % company\n",
    "    df = pd.read_csv(CSV, usecols=[0, 1, 2, 3, 4, 5, 6], parse_dates=['timestamp'])\n",
    "    df.rename(columns={'timestamp': 'date'}, inplace=True)\n",
    "    df.sort_values(by='date', inplace=True)\n",
    "    df.set_index('date', inplace=True)\n",
    "    df.drop(df[df.index.date <= last_date].index, inplace=True)\n",
    "    for idx, row in df.iterrows():\n",
    "        sl = StockLog(date=idx,\n",
    "                      code=company,\n",
    "                      opening=row['open'],\n",
    "                      high=row['high'],\n",
    "                      low=row['low'],\n",
    "                      closing=row['close'],\n",
    "                      adjusted=row['adjusted_close'],\n",
    "                      volume=row['volume'])\n",
    "        sl.save()"
   ]
  },
  {
   "cell_type": "code",
   "execution_count": null,
   "metadata": {},
   "outputs": [],
   "source": []
  }
 ],
 "metadata": {
  "kernelspec": {
   "display_name": "Python 3",
   "language": "python",
   "name": "python3"
  },
  "language_info": {
   "codemirror_mode": {
    "name": "ipython",
    "version": 3
   },
   "file_extension": ".py",
   "mimetype": "text/x-python",
   "name": "python",
   "nbconvert_exporter": "python",
   "pygments_lexer": "ipython3",
   "version": "3.7.3"
  }
 },
 "nbformat": 4,
 "nbformat_minor": 4
}
