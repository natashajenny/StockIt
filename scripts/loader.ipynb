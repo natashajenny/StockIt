{
 "cells": [
  {
   "cell_type": "code",
   "execution_count": 1,
   "metadata": {},
   "outputs": [],
   "source": [
    "import math\n",
    "import warnings\n",
    "import pandas as pd\n",
    "import numpy as np\n",
    "import seaborn as sns\n",
    "import matplotlib.pyplot as plt\n",
    "import talib as ta\n",
    "from model import Company, StockLog, IndexLog, PerformanceLog\n",
    "from model import start_engine\n",
    "from datetime import date, datetime\n",
    "\n",
    "%matplotlib inline\n",
    "warnings.filterwarnings(\"ignore\")"
   ]
  },
  {
   "cell_type": "code",
   "execution_count": 9,
   "metadata": {},
   "outputs": [],
   "source": [
    "# get all companies\n",
    "engine = start_engine()\n",
    "start = datetime.strptime('2008-07-01', '%Y-%m-%d').date()\n",
    "companies = Company().query().all()\n",
    "# ALX AZJ CAR BXB\n",
    "company_diff = ['ALX', 'AZJ', 'CAR','ABC','AGL','ALQ','ALU','AWC','AMC','AMP','ANN','ANZ','APA','ALL','ASX','AST','BOQ','BEN','BHP','BSL','BLD','BXB']\n",
    "diff = [c for c in companies if c.code not in company_diff]\n",
    "companies = diff"
   ]
  },
  {
   "cell_type": "code",
   "execution_count": null,
   "metadata": {},
   "outputs": [
    {
     "name": "stdout",
     "output_type": "stream",
     "text": [
      "Processing CTX\n",
      "Processing CGF\n",
      "Processing CHC\n",
      "Processing CIM\n",
      "Processing CWY\n",
      "Processing CCL\n",
      "Processing COH\n",
      "Processing CBA\n",
      "Processing CPU\n",
      "Processing CWN\n",
      "Processing CSL\n",
      "Processing DXS\n",
      "Processing DMP\n",
      "Processing DOW\n",
      "Processing EVN\n",
      "Processing FLT\n",
      "Processing FMG\n",
      "Processing GMG\n"
     ]
    }
   ],
   "source": [
    "for company in companies:\n",
    "    print('Processing', company.code)\n",
    "    # get stock data\n",
    "    stock_log = StockLog().query().filter((StockLog.company==company) & (StockLog.date >= start))\n",
    "    df = pd.read_sql(stock_log.statement, engine)\n",
    "    df.sort_values(by='date', inplace=True)\n",
    "    df.set_index('date', inplace=True)\n",
    "    # calculate techincal indicators\n",
    "    df['change'] = df['closing'].diff(1)\n",
    "    for period in [15, 50, 200]:\n",
    "        df['sma%d' % period] = ta.SMA(df['closing'], timeperiod=period)\n",
    "    for period in [15, 50, 200]:\n",
    "        df['ema%d' % period] = ta.EMA(df['closing'], timeperiod=period)  \n",
    "    df['macd'], df['macd_sig'], df['macd_hist']  = ta.MACD(df['closing'], fastperiod=12, slowperiod=26, signalperiod=9)\n",
    "    df['bb_hi'], df['bb_mid'], df['bb_lo'] = ta.BBANDS(df['closing'], timeperiod=20, nbdevup=2, nbdevdn=2, matype=0)\n",
    "    df['slowk'], df['slowd'] = ta.STOCH(df['high'], df['low'], df['closing'], fastk_period=14, slowk_period=3, slowk_matype=0, slowd_period=3, slowd_matype=0)\n",
    "    df['rsi'] = ta.RSI(df['closing'], timeperiod=14)\n",
    "    df['adx'] = ta.ADX(df['high'], df['low'], df['closing'], timeperiod=14)\n",
    "    df['cci'] = ta.CCI(df['high'], df['low'], df['closing'], timeperiod=14)\n",
    "    df['aroon_dn'], df['aroon_up'] = ta.AROON(df['high'], df['low'], timeperiod=25)\n",
    "    df['chaikin'] = ta.AD(df['high'], df['low'], df['closing'], df['volume'])\n",
    "    df['obv'] = ta.OBV(df['closing'], df['volume'])\n",
    "    df['mom'] = ta.MOM(df['closing'], timeperiod=10)\n",
    "    # read annual reports\n",
    "    perf_log = PerformanceLog().query().filter(PerformanceLog.company==company)\n",
    "    fi = pd.read_sql(perf_log.statement, engine)\n",
    "    fi.set_index('date', inplace=True)\n",
    "    # Price to EPS Ratio\n",
    "    eps = fi['eps']\n",
    "    df = df.merge(eps, how='outer', left_index=True, right_index=True)\n",
    "    df['eps'].interpolate(method='pad', inplace=True)\n",
    "    df['pe_ratio'] = df.apply(lambda x: x['closing'] / x['eps'], axis=1)\n",
    "    df.drop(['eps'], axis=1, inplace=True)\n",
    "    # Dividend to Price Ratio (Dividend Yield)\n",
    "    dividend = fi['net_dividend']\n",
    "    df = df.merge(dividend, how='outer', left_index=True, right_index=True)\n",
    "    df['net_dividend'].interpolate(method='pad', inplace=True)\n",
    "    df['dp_ratio'] = df.apply(lambda x: x['net_dividend'] / x['closing'], axis=1)\n",
    "    df.drop(['net_dividend'], axis=1, inplace=True)    \n",
    "    # Price to Book Ratio\n",
    "    bvps = fi['bv_ps']\n",
    "    df = df.merge(bvps, how='outer', left_index=True, right_index=True)\n",
    "    df['bv_ps'].interpolate(method='pad', inplace=True)\n",
    "    df['pb_ratio'] = df.apply(lambda x: x['closing'] / x['bv_ps'], axis=1)\n",
    "    df.drop(['bv_ps'], axis=1, inplace=True)    \n",
    "    # clean up\n",
    "    df.drop(df[df.closing == 0].index, inplace=True)\n",
    "    df.dropna(subset=['opening'], inplace=True)\n",
    "    # write to DB\n",
    "    df.set_index('code', append=True, inplace=True) \n",
    "    df.to_sql('test_table', engine, if_exists='append')"
   ]
  },
  {
   "cell_type": "code",
   "execution_count": null,
   "metadata": {},
   "outputs": [],
   "source": []
  }
 ],
 "metadata": {
  "kernelspec": {
   "display_name": "Python 3",
   "language": "python",
   "name": "python3"
  },
  "language_info": {
   "codemirror_mode": {
    "name": "ipython",
    "version": 3
   },
   "file_extension": ".py",
   "mimetype": "text/x-python",
   "name": "python",
   "nbconvert_exporter": "python",
   "pygments_lexer": "ipython3",
   "version": "3.7.3"
  }
 },
 "nbformat": 4,
 "nbformat_minor": 4
}
